{
 "cells": [
  {
   "cell_type": "code",
   "execution_count": 1,
   "metadata": {
    "collapsed": true
   },
   "outputs": [],
   "source": [
    "import numpy as np\n",
    "import pandas as pd\n"
   ]
  },
  {
   "cell_type": "markdown",
   "metadata": {},
   "source": [
    "### 1)Load in the appropriate csv file as a pandas dataframe "
   ]
  },
  {
   "cell_type": "code",
   "execution_count": 2,
   "metadata": {
    "collapsed": true
   },
   "outputs": [],
   "source": [
    "df= pd.read_csv('Batting.csv')"
   ]
  },
  {
   "cell_type": "code",
   "execution_count": 3,
   "metadata": {
    "collapsed": true
   },
   "outputs": [],
   "source": [
    "#Filling null values with zeros\n",
    "df=df.fillna(0)"
   ]
  },
  {
   "cell_type": "markdown",
   "metadata": {},
   "source": [
    "### 2)\tPrint out the dimensions and info about the dataframe you just created "
   ]
  },
  {
   "cell_type": "code",
   "execution_count": 4,
   "metadata": {},
   "outputs": [
    {
     "name": "stdout",
     "output_type": "stream",
     "text": [
      "<class 'pandas.core.frame.DataFrame'>\n",
      "RangeIndex: 102816 entries, 0 to 102815\n",
      "Data columns (total 25 columns):\n",
      "playerID     102816 non-null object\n",
      "nameFirst    102816 non-null object\n",
      "nameLast     102816 non-null object\n",
      "birthYear    102816 non-null int64\n",
      "yearID       102816 non-null int64\n",
      "stint        102816 non-null int64\n",
      "teamID       102816 non-null object\n",
      "lgID         102816 non-null object\n",
      "G            102816 non-null int64\n",
      "AB           102816 non-null int64\n",
      "R            102816 non-null int64\n",
      "H            102816 non-null int64\n",
      "2B           102816 non-null int64\n",
      "3B           102816 non-null int64\n",
      "HR           102816 non-null int64\n",
      "RBI          102816 non-null float64\n",
      "SB           102816 non-null float64\n",
      "CS           102816 non-null float64\n",
      "BB           102816 non-null int64\n",
      "SO           102816 non-null float64\n",
      "IBB          102816 non-null float64\n",
      "HBP          102816 non-null float64\n",
      "SH           102816 non-null float64\n",
      "SF           102816 non-null float64\n",
      "GIDP         102816 non-null float64\n",
      "dtypes: float64(9), int64(11), object(5)\n",
      "memory usage: 19.6+ MB\n"
     ]
    }
   ],
   "source": [
    "df.info()"
   ]
  },
  {
   "cell_type": "markdown",
   "metadata": {},
   "source": [
    "### 3)\tHow many players have hit 40 or more HRs in one single season? "
   ]
  },
  {
   "cell_type": "code",
   "execution_count": 5,
   "metadata": {
    "collapsed": true
   },
   "outputs": [],
   "source": [
    "##Group by player ID and Year ID and sum homeruns \n",
    "fourty_more_hr= pd.DataFrame(df.pivot_table(values='HR',index=['playerID', 'yearID'],aggfunc= np.sum))"
   ]
  },
  {
   "cell_type": "code",
   "execution_count": 6,
   "metadata": {
    "collapsed": true
   },
   "outputs": [],
   "source": [
    "fourty_more_hr=fourty_more_hr.reset_index()"
   ]
  },
  {
   "cell_type": "code",
   "execution_count": 7,
   "metadata": {
    "collapsed": true
   },
   "outputs": [],
   "source": [
    "\n",
    "fourty_more_hr = fourty_more_hr[(fourty_more_hr['HR']>=40)]\n"
   ]
  },
  {
   "cell_type": "code",
   "execution_count": 8,
   "metadata": {},
   "outputs": [
    {
     "data": {
      "text/plain": [
       "142"
      ]
     },
     "execution_count": 8,
     "metadata": {},
     "output_type": "execute_result"
    }
   ],
   "source": [
    "fourty_more_hr['playerID'].nunique()"
   ]
  },
  {
   "cell_type": "markdown",
   "metadata": {},
   "source": [
    "### 4)\tHow many players have hit more than 600 HRs for their career? (Dataframe)"
   ]
  },
  {
   "cell_type": "code",
   "execution_count": 9,
   "metadata": {
    "collapsed": true
   },
   "outputs": [],
   "source": [
    "##Grouping data with player id name last name and  adding the total homruns\n",
    "by_player = pd.DataFrame(df.pivot_table(values='HR',index=['playerID','nameFirst','nameLast'],aggfunc= np.sum)).reset_index()"
   ]
  },
  {
   "cell_type": "code",
   "execution_count": 10,
   "metadata": {
    "collapsed": true
   },
   "outputs": [],
   "source": [
    "by_player = by_player[by_player['HR']>600]"
   ]
  },
  {
   "cell_type": "code",
   "execution_count": 11,
   "metadata": {},
   "outputs": [
    {
     "data": {
      "text/html": [
       "<div>\n",
       "<style scoped>\n",
       "    .dataframe tbody tr th:only-of-type {\n",
       "        vertical-align: middle;\n",
       "    }\n",
       "\n",
       "    .dataframe tbody tr th {\n",
       "        vertical-align: top;\n",
       "    }\n",
       "\n",
       "    .dataframe thead th {\n",
       "        text-align: right;\n",
       "    }\n",
       "</style>\n",
       "<table border=\"1\" class=\"dataframe\">\n",
       "  <thead>\n",
       "    <tr style=\"text-align: right;\">\n",
       "      <th></th>\n",
       "      <th>playerID</th>\n",
       "      <th>nameFirst</th>\n",
       "      <th>nameLast</th>\n",
       "      <th>HR</th>\n",
       "    </tr>\n",
       "  </thead>\n",
       "  <tbody>\n",
       "    <tr>\n",
       "      <th>0</th>\n",
       "      <td>aaronha01</td>\n",
       "      <td>Hank</td>\n",
       "      <td>Aaron</td>\n",
       "      <td>755</td>\n",
       "    </tr>\n",
       "    <tr>\n",
       "      <th>1</th>\n",
       "      <td>bondsba01</td>\n",
       "      <td>Barry</td>\n",
       "      <td>Bonds</td>\n",
       "      <td>762</td>\n",
       "    </tr>\n",
       "    <tr>\n",
       "      <th>2</th>\n",
       "      <td>griffke02</td>\n",
       "      <td>Ken</td>\n",
       "      <td>Griffey</td>\n",
       "      <td>630</td>\n",
       "    </tr>\n",
       "    <tr>\n",
       "      <th>3</th>\n",
       "      <td>mayswi01</td>\n",
       "      <td>Willie</td>\n",
       "      <td>Mays</td>\n",
       "      <td>660</td>\n",
       "    </tr>\n",
       "    <tr>\n",
       "      <th>4</th>\n",
       "      <td>rodrial01</td>\n",
       "      <td>Alex</td>\n",
       "      <td>Rodriguez</td>\n",
       "      <td>696</td>\n",
       "    </tr>\n",
       "    <tr>\n",
       "      <th>5</th>\n",
       "      <td>ruthba01</td>\n",
       "      <td>Babe</td>\n",
       "      <td>Ruth</td>\n",
       "      <td>714</td>\n",
       "    </tr>\n",
       "    <tr>\n",
       "      <th>6</th>\n",
       "      <td>sosasa01</td>\n",
       "      <td>Sammy</td>\n",
       "      <td>Sosa</td>\n",
       "      <td>609</td>\n",
       "    </tr>\n",
       "    <tr>\n",
       "      <th>7</th>\n",
       "      <td>thomeji01</td>\n",
       "      <td>Jim</td>\n",
       "      <td>Thome</td>\n",
       "      <td>612</td>\n",
       "    </tr>\n",
       "  </tbody>\n",
       "</table>\n",
       "</div>"
      ],
      "text/plain": [
       "    playerID nameFirst   nameLast   HR\n",
       "0  aaronha01      Hank      Aaron  755\n",
       "1  bondsba01     Barry      Bonds  762\n",
       "2  griffke02       Ken    Griffey  630\n",
       "3   mayswi01    Willie       Mays  660\n",
       "4  rodrial01      Alex  Rodriguez  696\n",
       "5   ruthba01      Babe       Ruth  714\n",
       "6   sosasa01     Sammy       Sosa  609\n",
       "7  thomeji01       Jim      Thome  612"
      ]
     },
     "execution_count": 11,
     "metadata": {},
     "output_type": "execute_result"
    }
   ],
   "source": [
    "by_player.reset_index(drop=True)"
   ]
  },
  {
   "cell_type": "markdown",
   "metadata": {},
   "source": [
    "### 5)\tHow many players have hit 40 2Bs, 10 3Bs, 200 Hits, and 30 HRs (inclusive) in one season? (Number Only)"
   ]
  },
  {
   "cell_type": "code",
   "execution_count": 12,
   "metadata": {
    "collapsed": true
   },
   "outputs": [],
   "source": [
    "##Grouping Data with player and year ID wise adding all other parameters\n",
    "player_stat= pd.DataFrame(df.pivot_table(values=['H','2B','3B','HR'],index=['playerID','yearID'],aggfunc= np.sum)).reset_index()"
   ]
  },
  {
   "cell_type": "code",
   "execution_count": 13,
   "metadata": {
    "collapsed": true
   },
   "outputs": [],
   "source": [
    "player_stat= player_stat[((player_stat['H']>=200) & (player_stat['2B']>=40) & (player_stat['3B']>=10) & (player_stat['HR']>=30))]"
   ]
  },
  {
   "cell_type": "code",
   "execution_count": 14,
   "metadata": {
    "collapsed": true
   },
   "outputs": [],
   "source": [
    "#Sliced data as per the requirement and stored in the dataframe and using nun unique on player ID so as to count the number of \n",
    "# player with such record"
   ]
  },
  {
   "cell_type": "code",
   "execution_count": 15,
   "metadata": {},
   "outputs": [
    {
     "data": {
      "text/plain": [
       "11"
      ]
     },
     "execution_count": 15,
     "metadata": {},
     "output_type": "execute_result"
    }
   ],
   "source": [
    "player_stat['playerID'].nunique()"
   ]
  },
  {
   "cell_type": "markdown",
   "metadata": {},
   "source": [
    "### 6)\tHow many players have had 100 or more SBs in a season? "
   ]
  },
  {
   "cell_type": "code",
   "execution_count": 16,
   "metadata": {
    "collapsed": true
   },
   "outputs": [],
   "source": [
    "##Grouping players with year wise and adding SB\n",
    "by_100_more_sb = pd.DataFrame(df.pivot_table(values='SB',index=['playerID','nameFirst','nameLast', 'yearID'],aggfunc= np.sum)).reset_index()"
   ]
  },
  {
   "cell_type": "code",
   "execution_count": 17,
   "metadata": {
    "collapsed": true
   },
   "outputs": [],
   "source": [
    "by_100_more_sb = by_100_more_sb[(by_100_more_sb['SB']>=100)]"
   ]
  },
  {
   "cell_type": "code",
   "execution_count": 18,
   "metadata": {
    "collapsed": true
   },
   "outputs": [],
   "source": [
    "by_100_more_sb= by_100_more_sb.drop_duplicates(subset='playerID', keep='first', inplace=False)"
   ]
  },
  {
   "cell_type": "code",
   "execution_count": 19,
   "metadata": {
    "collapsed": true
   },
   "outputs": [],
   "source": [
    "by_100_more_sb= by_100_more_sb.drop(['yearID','SB'], axis=1)"
   ]
  },
  {
   "cell_type": "code",
   "execution_count": 20,
   "metadata": {},
   "outputs": [
    {
     "data": {
      "text/html": [
       "<div>\n",
       "<style scoped>\n",
       "    .dataframe tbody tr th:only-of-type {\n",
       "        vertical-align: middle;\n",
       "    }\n",
       "\n",
       "    .dataframe tbody tr th {\n",
       "        vertical-align: top;\n",
       "    }\n",
       "\n",
       "    .dataframe thead th {\n",
       "        text-align: right;\n",
       "    }\n",
       "</style>\n",
       "<table border=\"1\" class=\"dataframe\">\n",
       "  <thead>\n",
       "    <tr style=\"text-align: right;\">\n",
       "      <th></th>\n",
       "      <th>playerID</th>\n",
       "      <th>nameFirst</th>\n",
       "      <th>nameLast</th>\n",
       "    </tr>\n",
       "  </thead>\n",
       "  <tbody>\n",
       "    <tr>\n",
       "      <th>0</th>\n",
       "      <td>brocklo01</td>\n",
       "      <td>Lou</td>\n",
       "      <td>Brock</td>\n",
       "    </tr>\n",
       "    <tr>\n",
       "      <th>1</th>\n",
       "      <td>brownpe01</td>\n",
       "      <td>Pete</td>\n",
       "      <td>Browning</td>\n",
       "    </tr>\n",
       "    <tr>\n",
       "      <th>2</th>\n",
       "      <td>brownto01</td>\n",
       "      <td>Tom</td>\n",
       "      <td>Brown</td>\n",
       "    </tr>\n",
       "    <tr>\n",
       "      <th>3</th>\n",
       "      <td>colemvi01</td>\n",
       "      <td>Vince</td>\n",
       "      <td>Coleman</td>\n",
       "    </tr>\n",
       "    <tr>\n",
       "      <th>4</th>\n",
       "      <td>comisch01</td>\n",
       "      <td>Charlie</td>\n",
       "      <td>Comiskey</td>\n",
       "    </tr>\n",
       "    <tr>\n",
       "      <th>5</th>\n",
       "      <td>fogarji01</td>\n",
       "      <td>Jim</td>\n",
       "      <td>Fogarty</td>\n",
       "    </tr>\n",
       "    <tr>\n",
       "      <th>6</th>\n",
       "      <td>hamilbi01</td>\n",
       "      <td>Billy</td>\n",
       "      <td>Hamilton</td>\n",
       "    </tr>\n",
       "    <tr>\n",
       "      <th>7</th>\n",
       "      <td>henderi01</td>\n",
       "      <td>Rickey</td>\n",
       "      <td>Henderson</td>\n",
       "    </tr>\n",
       "    <tr>\n",
       "      <th>8</th>\n",
       "      <td>lathaar01</td>\n",
       "      <td>Arlie</td>\n",
       "      <td>Latham</td>\n",
       "    </tr>\n",
       "    <tr>\n",
       "      <th>9</th>\n",
       "      <td>nicolhu01</td>\n",
       "      <td>Hugh</td>\n",
       "      <td>Nicol</td>\n",
       "    </tr>\n",
       "    <tr>\n",
       "      <th>10</th>\n",
       "      <td>wardjo01</td>\n",
       "      <td>John</td>\n",
       "      <td>Ward</td>\n",
       "    </tr>\n",
       "    <tr>\n",
       "      <th>11</th>\n",
       "      <td>willsma01</td>\n",
       "      <td>Maury</td>\n",
       "      <td>Wills</td>\n",
       "    </tr>\n",
       "  </tbody>\n",
       "</table>\n",
       "</div>"
      ],
      "text/plain": [
       "     playerID nameFirst   nameLast\n",
       "0   brocklo01       Lou      Brock\n",
       "1   brownpe01      Pete   Browning\n",
       "2   brownto01       Tom      Brown\n",
       "3   colemvi01     Vince    Coleman\n",
       "4   comisch01   Charlie   Comiskey\n",
       "5   fogarji01       Jim    Fogarty\n",
       "6   hamilbi01     Billy   Hamilton\n",
       "7   henderi01    Rickey  Henderson\n",
       "8   lathaar01     Arlie     Latham\n",
       "9   nicolhu01      Hugh      Nicol\n",
       "10   wardjo01      John       Ward\n",
       "11  willsma01     Maury      Wills"
      ]
     },
     "execution_count": 20,
     "metadata": {},
     "output_type": "execute_result"
    }
   ],
   "source": [
    "by_100_more_sb.reset_index(drop=True)"
   ]
  },
  {
   "cell_type": "code",
   "execution_count": 21,
   "metadata": {},
   "outputs": [
    {
     "data": {
      "text/plain": [
       "12"
      ]
     },
     "execution_count": 21,
     "metadata": {},
     "output_type": "execute_result"
    }
   ],
   "source": [
    "by_100_more_sb['playerID'].nunique()"
   ]
  },
  {
   "cell_type": "markdown",
   "metadata": {},
   "source": [
    "### 7)\tHow many players in the 1960s have hit more than 200 HRs? (Dataframe)"
   ]
  },
  {
   "cell_type": "code",
   "execution_count": 22,
   "metadata": {
    "collapsed": true
   },
   "outputs": [],
   "source": [
    "##Grouping players year wise and adding home runs\n",
    "hit_more_hr = pd.DataFrame(df.pivot_table(values='HR',index=['playerID','nameFirst','nameLast', 'yearID'],aggfunc= np.sum)).reset_index()"
   ]
  },
  {
   "cell_type": "code",
   "execution_count": 23,
   "metadata": {
    "collapsed": true
   },
   "outputs": [],
   "source": [
    "hit_more_hr= hit_more_hr[((hit_more_hr['yearID']>=1960)&(hit_more_hr['yearID']<=1969))]"
   ]
  },
  {
   "cell_type": "code",
   "execution_count": 24,
   "metadata": {
    "collapsed": true
   },
   "outputs": [],
   "source": [
    "hit_more_hr = hit_more_hr.groupby(['playerID','nameFirst','nameLast']).sum()"
   ]
  },
  {
   "cell_type": "code",
   "execution_count": 25,
   "metadata": {
    "collapsed": true
   },
   "outputs": [],
   "source": [
    "##Grouping the players and adding their homeruns for through out the 1960s and then storing those who have scored more than 200 home runs"
   ]
  },
  {
   "cell_type": "code",
   "execution_count": 26,
   "metadata": {
    "collapsed": true
   },
   "outputs": [],
   "source": [
    "hit_more_hr= hit_more_hr.drop(['yearID'],axis=1).reset_index()"
   ]
  },
  {
   "cell_type": "code",
   "execution_count": 27,
   "metadata": {
    "collapsed": true
   },
   "outputs": [],
   "source": [
    "hit_more_hr = hit_more_hr[(hit_more_hr['HR']>200)]"
   ]
  },
  {
   "cell_type": "code",
   "execution_count": 28,
   "metadata": {},
   "outputs": [
    {
     "data": {
      "text/html": [
       "<div>\n",
       "<style scoped>\n",
       "    .dataframe tbody tr th:only-of-type {\n",
       "        vertical-align: middle;\n",
       "    }\n",
       "\n",
       "    .dataframe tbody tr th {\n",
       "        vertical-align: top;\n",
       "    }\n",
       "\n",
       "    .dataframe thead th {\n",
       "        text-align: right;\n",
       "    }\n",
       "</style>\n",
       "<table border=\"1\" class=\"dataframe\">\n",
       "  <thead>\n",
       "    <tr style=\"text-align: right;\">\n",
       "      <th></th>\n",
       "      <th>playerID</th>\n",
       "      <th>nameFirst</th>\n",
       "      <th>nameLast</th>\n",
       "      <th>HR</th>\n",
       "    </tr>\n",
       "  </thead>\n",
       "  <tbody>\n",
       "    <tr>\n",
       "      <th>0</th>\n",
       "      <td>aaronha01</td>\n",
       "      <td>Hank</td>\n",
       "      <td>Aaron</td>\n",
       "      <td>375</td>\n",
       "    </tr>\n",
       "    <tr>\n",
       "      <th>1</th>\n",
       "      <td>allisbo01</td>\n",
       "      <td>Bob</td>\n",
       "      <td>Allison</td>\n",
       "      <td>225</td>\n",
       "    </tr>\n",
       "    <tr>\n",
       "      <th>2</th>\n",
       "      <td>bankser01</td>\n",
       "      <td>Ernie</td>\n",
       "      <td>Banks</td>\n",
       "      <td>269</td>\n",
       "    </tr>\n",
       "    <tr>\n",
       "      <th>3</th>\n",
       "      <td>cashno01</td>\n",
       "      <td>Norm</td>\n",
       "      <td>Cash</td>\n",
       "      <td>278</td>\n",
       "    </tr>\n",
       "    <tr>\n",
       "      <th>4</th>\n",
       "      <td>cepedor01</td>\n",
       "      <td>Orlando</td>\n",
       "      <td>Cepeda</td>\n",
       "      <td>254</td>\n",
       "    </tr>\n",
       "    <tr>\n",
       "      <th>5</th>\n",
       "      <td>colavro01</td>\n",
       "      <td>Rocky</td>\n",
       "      <td>Colavito</td>\n",
       "      <td>245</td>\n",
       "    </tr>\n",
       "    <tr>\n",
       "      <th>6</th>\n",
       "      <td>howarfr01</td>\n",
       "      <td>Frank</td>\n",
       "      <td>Howard</td>\n",
       "      <td>288</td>\n",
       "    </tr>\n",
       "    <tr>\n",
       "      <th>7</th>\n",
       "      <td>kalinal01</td>\n",
       "      <td>Al</td>\n",
       "      <td>Kaline</td>\n",
       "      <td>210</td>\n",
       "    </tr>\n",
       "    <tr>\n",
       "      <th>8</th>\n",
       "      <td>killeha01</td>\n",
       "      <td>Harmon</td>\n",
       "      <td>Killebrew</td>\n",
       "      <td>393</td>\n",
       "    </tr>\n",
       "    <tr>\n",
       "      <th>9</th>\n",
       "      <td>mantlmi01</td>\n",
       "      <td>Mickey</td>\n",
       "      <td>Mantle</td>\n",
       "      <td>256</td>\n",
       "    </tr>\n",
       "    <tr>\n",
       "      <th>10</th>\n",
       "      <td>marisro01</td>\n",
       "      <td>Roger</td>\n",
       "      <td>Maris</td>\n",
       "      <td>217</td>\n",
       "    </tr>\n",
       "    <tr>\n",
       "      <th>11</th>\n",
       "      <td>matheed01</td>\n",
       "      <td>Eddie</td>\n",
       "      <td>Mathews</td>\n",
       "      <td>213</td>\n",
       "    </tr>\n",
       "    <tr>\n",
       "      <th>12</th>\n",
       "      <td>mayswi01</td>\n",
       "      <td>Willie</td>\n",
       "      <td>Mays</td>\n",
       "      <td>350</td>\n",
       "    </tr>\n",
       "    <tr>\n",
       "      <th>13</th>\n",
       "      <td>mccovwi01</td>\n",
       "      <td>Willie</td>\n",
       "      <td>McCovey</td>\n",
       "      <td>300</td>\n",
       "    </tr>\n",
       "    <tr>\n",
       "      <th>14</th>\n",
       "      <td>powelbo01</td>\n",
       "      <td>Boog</td>\n",
       "      <td>Powell</td>\n",
       "      <td>202</td>\n",
       "    </tr>\n",
       "    <tr>\n",
       "      <th>15</th>\n",
       "      <td>robinfr02</td>\n",
       "      <td>Frank</td>\n",
       "      <td>Robinson</td>\n",
       "      <td>316</td>\n",
       "    </tr>\n",
       "    <tr>\n",
       "      <th>16</th>\n",
       "      <td>santoro01</td>\n",
       "      <td>Ron</td>\n",
       "      <td>Santo</td>\n",
       "      <td>253</td>\n",
       "    </tr>\n",
       "    <tr>\n",
       "      <th>17</th>\n",
       "      <td>willibi01</td>\n",
       "      <td>Billy</td>\n",
       "      <td>Williams</td>\n",
       "      <td>249</td>\n",
       "    </tr>\n",
       "    <tr>\n",
       "      <th>18</th>\n",
       "      <td>yastrca01</td>\n",
       "      <td>Carl</td>\n",
       "      <td>Yastrzemski</td>\n",
       "      <td>202</td>\n",
       "    </tr>\n",
       "  </tbody>\n",
       "</table>\n",
       "</div>"
      ],
      "text/plain": [
       "     playerID nameFirst     nameLast   HR\n",
       "0   aaronha01      Hank        Aaron  375\n",
       "1   allisbo01       Bob      Allison  225\n",
       "2   bankser01     Ernie        Banks  269\n",
       "3    cashno01      Norm         Cash  278\n",
       "4   cepedor01   Orlando       Cepeda  254\n",
       "5   colavro01     Rocky     Colavito  245\n",
       "6   howarfr01     Frank       Howard  288\n",
       "7   kalinal01        Al       Kaline  210\n",
       "8   killeha01    Harmon    Killebrew  393\n",
       "9   mantlmi01    Mickey       Mantle  256\n",
       "10  marisro01     Roger        Maris  217\n",
       "11  matheed01     Eddie      Mathews  213\n",
       "12   mayswi01    Willie         Mays  350\n",
       "13  mccovwi01    Willie      McCovey  300\n",
       "14  powelbo01      Boog       Powell  202\n",
       "15  robinfr02     Frank     Robinson  316\n",
       "16  santoro01       Ron        Santo  253\n",
       "17  willibi01     Billy     Williams  249\n",
       "18  yastrca01      Carl  Yastrzemski  202"
      ]
     },
     "execution_count": 28,
     "metadata": {},
     "output_type": "execute_result"
    }
   ],
   "source": [
    "hit_more_hr.reset_index(drop=True)"
   ]
  },
  {
   "cell_type": "code",
   "execution_count": 29,
   "metadata": {},
   "outputs": [
    {
     "data": {
      "text/plain": [
       "19"
      ]
     },
     "execution_count": 29,
     "metadata": {},
     "output_type": "execute_result"
    }
   ],
   "source": [
    "hit_more_hr['playerID'].nunique()"
   ]
  },
  {
   "cell_type": "markdown",
   "metadata": {},
   "source": [
    "### 8)\tWho has hit the most HRs in history? (Dataframe)"
   ]
  },
  {
   "cell_type": "code",
   "execution_count": 30,
   "metadata": {
    "collapsed": true
   },
   "outputs": [],
   "source": [
    "##Grouping players and adding their career homeruns \n",
    "hrmax = pd.DataFrame(df.pivot_table(values='HR',index=['playerID','nameFirst','nameLast'],aggfunc= np.sum)).reset_index()"
   ]
  },
  {
   "cell_type": "code",
   "execution_count": 31,
   "metadata": {
    "collapsed": true
   },
   "outputs": [],
   "source": [
    "hrmax= hrmax[(hrmax['HR']== hrmax['HR'].max())]"
   ]
  },
  {
   "cell_type": "code",
   "execution_count": 32,
   "metadata": {},
   "outputs": [
    {
     "data": {
      "text/html": [
       "<div>\n",
       "<style scoped>\n",
       "    .dataframe tbody tr th:only-of-type {\n",
       "        vertical-align: middle;\n",
       "    }\n",
       "\n",
       "    .dataframe tbody tr th {\n",
       "        vertical-align: top;\n",
       "    }\n",
       "\n",
       "    .dataframe thead th {\n",
       "        text-align: right;\n",
       "    }\n",
       "</style>\n",
       "<table border=\"1\" class=\"dataframe\">\n",
       "  <thead>\n",
       "    <tr style=\"text-align: right;\">\n",
       "      <th></th>\n",
       "      <th>playerID</th>\n",
       "      <th>nameFirst</th>\n",
       "      <th>nameLast</th>\n",
       "      <th>HR</th>\n",
       "    </tr>\n",
       "  </thead>\n",
       "  <tbody>\n",
       "    <tr>\n",
       "      <th>0</th>\n",
       "      <td>bondsba01</td>\n",
       "      <td>Barry</td>\n",
       "      <td>Bonds</td>\n",
       "      <td>762</td>\n",
       "    </tr>\n",
       "  </tbody>\n",
       "</table>\n",
       "</div>"
      ],
      "text/plain": [
       "    playerID nameFirst nameLast   HR\n",
       "0  bondsba01     Barry    Bonds  762"
      ]
     },
     "execution_count": 32,
     "metadata": {},
     "output_type": "execute_result"
    }
   ],
   "source": [
    "hrmax.reset_index(drop= True)"
   ]
  },
  {
   "cell_type": "markdown",
   "metadata": {},
   "source": [
    "### 9)\tWho had the most hits in the 1970s? (Dataframe)"
   ]
  },
  {
   "cell_type": "code",
   "execution_count": 33,
   "metadata": {
    "collapsed": true
   },
   "outputs": [],
   "source": [
    "##Adding total hits season wise then slicing data for years of 1970s\n",
    "hits = pd.DataFrame(df.pivot_table(values='H',index=['playerID','nameFirst','nameLast', 'yearID'],aggfunc= np.sum)).reset_index()"
   ]
  },
  {
   "cell_type": "code",
   "execution_count": 34,
   "metadata": {
    "collapsed": true
   },
   "outputs": [],
   "source": [
    "hits = hits[((hits['yearID']>=1970)&(hits['yearID']<=1979))]"
   ]
  },
  {
   "cell_type": "code",
   "execution_count": 35,
   "metadata": {
    "collapsed": true
   },
   "outputs": [],
   "source": [
    "hits = hits.groupby(['playerID','nameFirst','nameLast']).sum()"
   ]
  },
  {
   "cell_type": "code",
   "execution_count": 36,
   "metadata": {
    "collapsed": true
   },
   "outputs": [],
   "source": [
    "hits= hits.drop(['yearID'],axis=1).reset_index()"
   ]
  },
  {
   "cell_type": "code",
   "execution_count": 37,
   "metadata": {
    "collapsed": true
   },
   "outputs": [],
   "source": [
    "hits = hits[(hits['H']== hits['H'].max())]"
   ]
  },
  {
   "cell_type": "code",
   "execution_count": 38,
   "metadata": {},
   "outputs": [
    {
     "data": {
      "text/html": [
       "<div>\n",
       "<style scoped>\n",
       "    .dataframe tbody tr th:only-of-type {\n",
       "        vertical-align: middle;\n",
       "    }\n",
       "\n",
       "    .dataframe tbody tr th {\n",
       "        vertical-align: top;\n",
       "    }\n",
       "\n",
       "    .dataframe thead th {\n",
       "        text-align: right;\n",
       "    }\n",
       "</style>\n",
       "<table border=\"1\" class=\"dataframe\">\n",
       "  <thead>\n",
       "    <tr style=\"text-align: right;\">\n",
       "      <th></th>\n",
       "      <th>playerID</th>\n",
       "      <th>nameFirst</th>\n",
       "      <th>nameLast</th>\n",
       "      <th>H</th>\n",
       "    </tr>\n",
       "  </thead>\n",
       "  <tbody>\n",
       "    <tr>\n",
       "      <th>0</th>\n",
       "      <td>rosepe01</td>\n",
       "      <td>Pete</td>\n",
       "      <td>Rose</td>\n",
       "      <td>2045</td>\n",
       "    </tr>\n",
       "  </tbody>\n",
       "</table>\n",
       "</div>"
      ],
      "text/plain": [
       "   playerID nameFirst nameLast     H\n",
       "0  rosepe01      Pete     Rose  2045"
      ]
     },
     "execution_count": 38,
     "metadata": {},
     "output_type": "execute_result"
    }
   ],
   "source": [
    "hits.reset_index(drop=True)"
   ]
  },
  {
   "cell_type": "markdown",
   "metadata": {},
   "source": [
    "### Creating new columns for OBP,PA and Average"
   ]
  },
  {
   "cell_type": "code",
   "execution_count": 39,
   "metadata": {},
   "outputs": [],
   "source": [
    "df = df.fillna(0)\n",
    "df['PA']= df['HBP'] + df['AB']+df['SF'] +df['SH'] +df['BB']\n",
    "\n",
    "df=df.fillna(0)"
   ]
  },
  {
   "cell_type": "markdown",
   "metadata": {},
   "source": [
    "### 10)\tTop 5 highest OBP (on base percentage) with at least 500 PAs in 1977?  (Dataframe)"
   ]
  },
  {
   "cell_type": "code",
   "execution_count": 40,
   "metadata": {},
   "outputs": [
    {
     "data": {
      "text/html": [
       "<div>\n",
       "<style scoped>\n",
       "    .dataframe tbody tr th:only-of-type {\n",
       "        vertical-align: middle;\n",
       "    }\n",
       "\n",
       "    .dataframe tbody tr th {\n",
       "        vertical-align: top;\n",
       "    }\n",
       "\n",
       "    .dataframe thead th {\n",
       "        text-align: right;\n",
       "    }\n",
       "</style>\n",
       "<table border=\"1\" class=\"dataframe\">\n",
       "  <thead>\n",
       "    <tr style=\"text-align: right;\">\n",
       "      <th></th>\n",
       "      <th>nameFirst</th>\n",
       "      <th>nameLast</th>\n",
       "      <th>playerID</th>\n",
       "      <th>AB</th>\n",
       "      <th>BB</th>\n",
       "      <th>H</th>\n",
       "      <th>HBP</th>\n",
       "      <th>PA</th>\n",
       "      <th>SF</th>\n",
       "      <th>OBP</th>\n",
       "    </tr>\n",
       "  </thead>\n",
       "  <tbody>\n",
       "    <tr>\n",
       "      <th>0</th>\n",
       "      <td>Rod</td>\n",
       "      <td>Carew</td>\n",
       "      <td>carewro01</td>\n",
       "      <td>616</td>\n",
       "      <td>69</td>\n",
       "      <td>239</td>\n",
       "      <td>3.0</td>\n",
       "      <td>694.0</td>\n",
       "      <td>5.0</td>\n",
       "      <td>0.448773</td>\n",
       "    </tr>\n",
       "    <tr>\n",
       "      <th>1</th>\n",
       "      <td>Ken</td>\n",
       "      <td>Singleton</td>\n",
       "      <td>singlke01</td>\n",
       "      <td>536</td>\n",
       "      <td>107</td>\n",
       "      <td>176</td>\n",
       "      <td>2.0</td>\n",
       "      <td>651.0</td>\n",
       "      <td>6.0</td>\n",
       "      <td>0.437788</td>\n",
       "    </tr>\n",
       "    <tr>\n",
       "      <th>2</th>\n",
       "      <td>Reggie</td>\n",
       "      <td>Smith</td>\n",
       "      <td>smithre06</td>\n",
       "      <td>488</td>\n",
       "      <td>104</td>\n",
       "      <td>150</td>\n",
       "      <td>3.0</td>\n",
       "      <td>603.0</td>\n",
       "      <td>7.0</td>\n",
       "      <td>0.426910</td>\n",
       "    </tr>\n",
       "    <tr>\n",
       "      <th>3</th>\n",
       "      <td>Mike</td>\n",
       "      <td>Hargrove</td>\n",
       "      <td>hargrmi01</td>\n",
       "      <td>525</td>\n",
       "      <td>103</td>\n",
       "      <td>160</td>\n",
       "      <td>6.0</td>\n",
       "      <td>648.0</td>\n",
       "      <td>6.0</td>\n",
       "      <td>0.420312</td>\n",
       "    </tr>\n",
       "    <tr>\n",
       "      <th>4</th>\n",
       "      <td>Joe</td>\n",
       "      <td>Morgan</td>\n",
       "      <td>morgajo02</td>\n",
       "      <td>521</td>\n",
       "      <td>117</td>\n",
       "      <td>150</td>\n",
       "      <td>2.0</td>\n",
       "      <td>645.0</td>\n",
       "      <td>5.0</td>\n",
       "      <td>0.417054</td>\n",
       "    </tr>\n",
       "  </tbody>\n",
       "</table>\n",
       "</div>"
      ],
      "text/plain": [
       "  nameFirst   nameLast   playerID   AB   BB    H  HBP     PA   SF       OBP\n",
       "0       Rod      Carew  carewro01  616   69  239  3.0  694.0  5.0  0.448773\n",
       "1       Ken  Singleton  singlke01  536  107  176  2.0  651.0  6.0  0.437788\n",
       "2    Reggie      Smith  smithre06  488  104  150  3.0  603.0  7.0  0.426910\n",
       "3      Mike   Hargrove  hargrmi01  525  103  160  6.0  648.0  6.0  0.420312\n",
       "4       Joe     Morgan  morgajo02  521  117  150  2.0  645.0  5.0  0.417054"
      ]
     },
     "execution_count": 40,
     "metadata": {},
     "output_type": "execute_result"
    }
   ],
   "source": [
    "## Slicing data for 1977 season then calculating OBP and finding the top 5 OBP with atleast 500 PAs\n",
    "obp_top5 = df[df['yearID'] == 1977].pivot_table(values=['AB','SF','BB','HBP','H','PA'], index=['nameFirst','nameLast','playerID'],aggfunc='sum').reset_index()\n",
    "obp_top5['OBP'] = (obp_top5['H']+obp_top5['BB']+obp_top5['HBP'])/(obp_top5['AB']+obp_top5['BB']+obp_top5['HBP']+obp_top5['SF'])\n",
    "obp_top5[obp_top5['PA'] >= 500].dropna().sort_values(by='OBP',ascending=False).reset_index(drop=True).head(5)\n"
   ]
  },
  {
   "cell_type": "markdown",
   "metadata": {},
   "source": [
    "### 11)\tTop 8 highest averages in 2013 with at least 300 PAs? (Dataframe)"
   ]
  },
  {
   "cell_type": "code",
   "execution_count": 41,
   "metadata": {},
   "outputs": [
    {
     "data": {
      "text/html": [
       "<div>\n",
       "<style scoped>\n",
       "    .dataframe tbody tr th:only-of-type {\n",
       "        vertical-align: middle;\n",
       "    }\n",
       "\n",
       "    .dataframe tbody tr th {\n",
       "        vertical-align: top;\n",
       "    }\n",
       "\n",
       "    .dataframe thead th {\n",
       "        text-align: right;\n",
       "    }\n",
       "</style>\n",
       "<table border=\"1\" class=\"dataframe\">\n",
       "  <thead>\n",
       "    <tr style=\"text-align: right;\">\n",
       "      <th></th>\n",
       "      <th>nameFirst</th>\n",
       "      <th>nameLast</th>\n",
       "      <th>playerID</th>\n",
       "      <th>AB</th>\n",
       "      <th>H</th>\n",
       "      <th>PA</th>\n",
       "      <th>Average</th>\n",
       "    </tr>\n",
       "  </thead>\n",
       "  <tbody>\n",
       "    <tr>\n",
       "      <th>0</th>\n",
       "      <td>Miguel</td>\n",
       "      <td>Cabrera</td>\n",
       "      <td>cabremi01</td>\n",
       "      <td>555</td>\n",
       "      <td>193</td>\n",
       "      <td>652.0</td>\n",
       "      <td>0.347748</td>\n",
       "    </tr>\n",
       "    <tr>\n",
       "      <th>1</th>\n",
       "      <td>Hanley</td>\n",
       "      <td>Ramirez</td>\n",
       "      <td>ramirha01</td>\n",
       "      <td>304</td>\n",
       "      <td>105</td>\n",
       "      <td>336.0</td>\n",
       "      <td>0.345395</td>\n",
       "    </tr>\n",
       "    <tr>\n",
       "      <th>2</th>\n",
       "      <td>Michael</td>\n",
       "      <td>Cuddyer</td>\n",
       "      <td>cuddymi01</td>\n",
       "      <td>489</td>\n",
       "      <td>162</td>\n",
       "      <td>540.0</td>\n",
       "      <td>0.331288</td>\n",
       "    </tr>\n",
       "    <tr>\n",
       "      <th>3</th>\n",
       "      <td>Joe</td>\n",
       "      <td>Mauer</td>\n",
       "      <td>mauerjo01</td>\n",
       "      <td>445</td>\n",
       "      <td>144</td>\n",
       "      <td>508.0</td>\n",
       "      <td>0.323596</td>\n",
       "    </tr>\n",
       "    <tr>\n",
       "      <th>4</th>\n",
       "      <td>Mike</td>\n",
       "      <td>Trout</td>\n",
       "      <td>troutmi01</td>\n",
       "      <td>589</td>\n",
       "      <td>190</td>\n",
       "      <td>716.0</td>\n",
       "      <td>0.322581</td>\n",
       "    </tr>\n",
       "    <tr>\n",
       "      <th>5</th>\n",
       "      <td>Chris</td>\n",
       "      <td>Johnson</td>\n",
       "      <td>johnsch05</td>\n",
       "      <td>514</td>\n",
       "      <td>165</td>\n",
       "      <td>547.0</td>\n",
       "      <td>0.321012</td>\n",
       "    </tr>\n",
       "    <tr>\n",
       "      <th>6</th>\n",
       "      <td>Freddie</td>\n",
       "      <td>Freeman</td>\n",
       "      <td>freemfr01</td>\n",
       "      <td>551</td>\n",
       "      <td>176</td>\n",
       "      <td>629.0</td>\n",
       "      <td>0.319419</td>\n",
       "    </tr>\n",
       "    <tr>\n",
       "      <th>7</th>\n",
       "      <td>Yasiel</td>\n",
       "      <td>Puig</td>\n",
       "      <td>puigya01</td>\n",
       "      <td>382</td>\n",
       "      <td>122</td>\n",
       "      <td>432.0</td>\n",
       "      <td>0.319372</td>\n",
       "    </tr>\n",
       "  </tbody>\n",
       "</table>\n",
       "</div>"
      ],
      "text/plain": [
       "  nameFirst nameLast   playerID   AB    H     PA   Average\n",
       "0    Miguel  Cabrera  cabremi01  555  193  652.0  0.347748\n",
       "1    Hanley  Ramirez  ramirha01  304  105  336.0  0.345395\n",
       "2   Michael  Cuddyer  cuddymi01  489  162  540.0  0.331288\n",
       "3       Joe    Mauer  mauerjo01  445  144  508.0  0.323596\n",
       "4      Mike    Trout  troutmi01  589  190  716.0  0.322581\n",
       "5     Chris  Johnson  johnsch05  514  165  547.0  0.321012\n",
       "6   Freddie  Freeman  freemfr01  551  176  629.0  0.319419\n",
       "7    Yasiel     Puig   puigya01  382  122  432.0  0.319372"
      ]
     },
     "execution_count": 41,
     "metadata": {},
     "output_type": "execute_result"
    }
   ],
   "source": [
    "##Slicing data for 2013 and then grouping data as per player and adding the total AB ,H,PA to caculate total home runs\n",
    "avgtop = df[df['yearID'] == 2013].pivot_table(values=['AB','H','PA'], index=['nameFirst','nameLast','playerID'],aggfunc='sum').reset_index()\n",
    "avgtop['Average'] = avgtop['H']/avgtop['AB']\n",
    "avgtop[avgtop['PA'] >= 300].sort_values(by='Average',ascending=False).reset_index(drop=True).head(8)"
   ]
  },
  {
   "cell_type": "markdown",
   "metadata": {},
   "source": [
    "### 12)\tLeaders in hits from 1940 up to and including 1949. (Dataframe)"
   ]
  },
  {
   "cell_type": "code",
   "execution_count": 42,
   "metadata": {},
   "outputs": [
    {
     "data": {
      "text/html": [
       "<div>\n",
       "<style scoped>\n",
       "    .dataframe tbody tr th:only-of-type {\n",
       "        vertical-align: middle;\n",
       "    }\n",
       "\n",
       "    .dataframe tbody tr th {\n",
       "        vertical-align: top;\n",
       "    }\n",
       "\n",
       "    .dataframe thead th {\n",
       "        text-align: right;\n",
       "    }\n",
       "</style>\n",
       "<table border=\"1\" class=\"dataframe\">\n",
       "  <thead>\n",
       "    <tr style=\"text-align: right;\">\n",
       "      <th></th>\n",
       "      <th>nameFirst</th>\n",
       "      <th>nameLast</th>\n",
       "      <th>playerID</th>\n",
       "      <th>yearID</th>\n",
       "      <th>H</th>\n",
       "    </tr>\n",
       "  </thead>\n",
       "  <tbody>\n",
       "    <tr>\n",
       "      <th>0</th>\n",
       "      <td>Barney</td>\n",
       "      <td>McCosky</td>\n",
       "      <td>mccosba01</td>\n",
       "      <td>1940</td>\n",
       "      <td>200</td>\n",
       "    </tr>\n",
       "    <tr>\n",
       "      <th>1</th>\n",
       "      <td>Doc</td>\n",
       "      <td>Cramer</td>\n",
       "      <td>cramedo01</td>\n",
       "      <td>1940</td>\n",
       "      <td>200</td>\n",
       "    </tr>\n",
       "    <tr>\n",
       "      <th>2</th>\n",
       "      <td>Rip</td>\n",
       "      <td>Radcliff</td>\n",
       "      <td>radclri01</td>\n",
       "      <td>1940</td>\n",
       "      <td>200</td>\n",
       "    </tr>\n",
       "    <tr>\n",
       "      <th>3</th>\n",
       "      <td>Cecil</td>\n",
       "      <td>Travis</td>\n",
       "      <td>travice01</td>\n",
       "      <td>1941</td>\n",
       "      <td>218</td>\n",
       "    </tr>\n",
       "    <tr>\n",
       "      <th>4</th>\n",
       "      <td>Johnny</td>\n",
       "      <td>Pesky</td>\n",
       "      <td>peskyjo01</td>\n",
       "      <td>1942</td>\n",
       "      <td>205</td>\n",
       "    </tr>\n",
       "    <tr>\n",
       "      <th>5</th>\n",
       "      <td>Stan</td>\n",
       "      <td>Musial</td>\n",
       "      <td>musiast01</td>\n",
       "      <td>1943</td>\n",
       "      <td>220</td>\n",
       "    </tr>\n",
       "    <tr>\n",
       "      <th>6</th>\n",
       "      <td>Snuffy</td>\n",
       "      <td>Stirnweiss</td>\n",
       "      <td>stirnsn01</td>\n",
       "      <td>1944</td>\n",
       "      <td>205</td>\n",
       "    </tr>\n",
       "    <tr>\n",
       "      <th>7</th>\n",
       "      <td>Tommy</td>\n",
       "      <td>Holmes</td>\n",
       "      <td>holmeto01</td>\n",
       "      <td>1945</td>\n",
       "      <td>224</td>\n",
       "    </tr>\n",
       "    <tr>\n",
       "      <th>8</th>\n",
       "      <td>Stan</td>\n",
       "      <td>Musial</td>\n",
       "      <td>musiast01</td>\n",
       "      <td>1946</td>\n",
       "      <td>228</td>\n",
       "    </tr>\n",
       "    <tr>\n",
       "      <th>9</th>\n",
       "      <td>Johnny</td>\n",
       "      <td>Pesky</td>\n",
       "      <td>peskyjo01</td>\n",
       "      <td>1947</td>\n",
       "      <td>207</td>\n",
       "    </tr>\n",
       "    <tr>\n",
       "      <th>10</th>\n",
       "      <td>Stan</td>\n",
       "      <td>Musial</td>\n",
       "      <td>musiast01</td>\n",
       "      <td>1948</td>\n",
       "      <td>230</td>\n",
       "    </tr>\n",
       "    <tr>\n",
       "      <th>11</th>\n",
       "      <td>Stan</td>\n",
       "      <td>Musial</td>\n",
       "      <td>musiast01</td>\n",
       "      <td>1949</td>\n",
       "      <td>207</td>\n",
       "    </tr>\n",
       "  </tbody>\n",
       "</table>\n",
       "</div>"
      ],
      "text/plain": [
       "   nameFirst    nameLast   playerID  yearID    H\n",
       "0     Barney     McCosky  mccosba01    1940  200\n",
       "1        Doc      Cramer  cramedo01    1940  200\n",
       "2        Rip    Radcliff  radclri01    1940  200\n",
       "3      Cecil      Travis  travice01    1941  218\n",
       "4     Johnny       Pesky  peskyjo01    1942  205\n",
       "5       Stan      Musial  musiast01    1943  220\n",
       "6     Snuffy  Stirnweiss  stirnsn01    1944  205\n",
       "7      Tommy      Holmes  holmeto01    1945  224\n",
       "8       Stan      Musial  musiast01    1946  228\n",
       "9     Johnny       Pesky  peskyjo01    1947  207\n",
       "10      Stan      Musial  musiast01    1948  230\n",
       "11      Stan      Musial  musiast01    1949  207"
      ]
     },
     "execution_count": 42,
     "metadata": {},
     "output_type": "execute_result"
    }
   ],
   "source": [
    "hits = df[(df['yearID'] >= 1940) & (df['yearID'] < 1950)].pivot_table(values='H', index=['nameFirst','nameLast','playerID','yearID'],aggfunc='sum').reset_index()\n",
    "i=1940\n",
    "all_hits = pd.DataFrame()\n",
    "#player with most hits in a year selected iteratively for years 1940 through 1949 and appended into a dataframe\n",
    "while i < 1950:\n",
    "    hits_i = hits[hits['yearID']== i][hits[hits['yearID']== i]['H'] == hits[hits['yearID']== i]['H'].max()]\n",
    "    all_hits = all_hits.append(hits_i)\n",
    "    i = i+1\n",
    "all_hits.reset_index(drop=True)"
   ]
  },
  {
   "cell_type": "markdown",
   "metadata": {},
   "source": [
    "### 13)\tWho led MLB with the most hits the most times?  And how many times?  (Dataframe, Number)"
   ]
  },
  {
   "cell_type": "code",
   "execution_count": 43,
   "metadata": {},
   "outputs": [],
   "source": [
    "nf = pd.DataFrame(df.pivot_table(values=['H'],index=['playerID','nameFirst','nameLast', 'yearID'],aggfunc= np.sum)).reset_index()\n",
    "hital = nf.groupby(['yearID','playerID','nameFirst','nameLast']).sum()"
   ]
  },
  {
   "cell_type": "code",
   "execution_count": 44,
   "metadata": {
    "collapsed": true
   },
   "outputs": [],
   "source": [
    "#Grouping hits with year id and then finding the index for the highest number of hits and then counting the number of its occurence"
   ]
  },
  {
   "cell_type": "code",
   "execution_count": 45,
   "metadata": {
    "collapsed": true
   },
   "outputs": [],
   "source": [
    "hital=hital.reset_index()"
   ]
  },
  {
   "cell_type": "code",
   "execution_count": 46,
   "metadata": {
    "collapsed": true
   },
   "outputs": [],
   "source": [
    "idx = hital.groupby(['yearID'])['H'].transform(max) == hital['H']"
   ]
  },
  {
   "cell_type": "code",
   "execution_count": 47,
   "metadata": {
    "collapsed": true
   },
   "outputs": [],
   "source": [
    "nal=hital[idx]"
   ]
  },
  {
   "cell_type": "code",
   "execution_count": 48,
   "metadata": {
    "collapsed": true
   },
   "outputs": [],
   "source": [
    "nfs = pd.DataFrame(nal.pivot_table(values=['playerID'],index=['nameFirst','nameLast'],aggfunc= 'count')).reset_index()"
   ]
  },
  {
   "cell_type": "code",
   "execution_count": 49,
   "metadata": {
    "collapsed": true
   },
   "outputs": [],
   "source": [
    "nfs = nfs.rename(columns={'playerID': 'NumberOfTimes'})"
   ]
  },
  {
   "cell_type": "code",
   "execution_count": 50,
   "metadata": {
    "collapsed": true
   },
   "outputs": [],
   "source": [
    "nfs = nfs[(nfs['NumberOfTimes']== nfs['NumberOfTimes'].max())]"
   ]
  },
  {
   "cell_type": "code",
   "execution_count": 51,
   "metadata": {},
   "outputs": [
    {
     "data": {
      "text/html": [
       "<div>\n",
       "<style scoped>\n",
       "    .dataframe tbody tr th:only-of-type {\n",
       "        vertical-align: middle;\n",
       "    }\n",
       "\n",
       "    .dataframe tbody tr th {\n",
       "        vertical-align: top;\n",
       "    }\n",
       "\n",
       "    .dataframe thead th {\n",
       "        text-align: right;\n",
       "    }\n",
       "</style>\n",
       "<table border=\"1\" class=\"dataframe\">\n",
       "  <thead>\n",
       "    <tr style=\"text-align: right;\">\n",
       "      <th></th>\n",
       "      <th>nameFirst</th>\n",
       "      <th>nameLast</th>\n",
       "      <th>NumberOfTimes</th>\n",
       "    </tr>\n",
       "  </thead>\n",
       "  <tbody>\n",
       "    <tr>\n",
       "      <th>0</th>\n",
       "      <td>Ichiro</td>\n",
       "      <td>Suzuki</td>\n",
       "      <td>7</td>\n",
       "    </tr>\n",
       "    <tr>\n",
       "      <th>1</th>\n",
       "      <td>Pete</td>\n",
       "      <td>Rose</td>\n",
       "      <td>7</td>\n",
       "    </tr>\n",
       "    <tr>\n",
       "      <th>2</th>\n",
       "      <td>Ty</td>\n",
       "      <td>Cobb</td>\n",
       "      <td>7</td>\n",
       "    </tr>\n",
       "  </tbody>\n",
       "</table>\n",
       "</div>"
      ],
      "text/plain": [
       "  nameFirst nameLast  NumberOfTimes\n",
       "0    Ichiro   Suzuki              7\n",
       "1      Pete     Rose              7\n",
       "2        Ty     Cobb              7"
      ]
     },
     "execution_count": 51,
     "metadata": {},
     "output_type": "execute_result"
    }
   ],
   "source": [
    "nfs.reset_index(drop=True)"
   ]
  },
  {
   "cell_type": "markdown",
   "metadata": {},
   "source": [
    "### 14) Which players have played the most games for their careers?  Top 5, descending by games played presented as a dataframe"
   ]
  },
  {
   "cell_type": "code",
   "execution_count": 52,
   "metadata": {
    "collapsed": true
   },
   "outputs": [],
   "source": [
    "by_games = pd.DataFrame(df.pivot_table(values='G',index=['playerID','nameFirst','nameLast'],aggfunc= np.sum)).reset_index()"
   ]
  },
  {
   "cell_type": "code",
   "execution_count": 53,
   "metadata": {
    "collapsed": true
   },
   "outputs": [],
   "source": [
    "##Grouping players and adding the total games then finding the largest 5 games of the column games"
   ]
  },
  {
   "cell_type": "code",
   "execution_count": 54,
   "metadata": {},
   "outputs": [
    {
     "data": {
      "text/html": [
       "<div>\n",
       "<style scoped>\n",
       "    .dataframe tbody tr th:only-of-type {\n",
       "        vertical-align: middle;\n",
       "    }\n",
       "\n",
       "    .dataframe tbody tr th {\n",
       "        vertical-align: top;\n",
       "    }\n",
       "\n",
       "    .dataframe thead th {\n",
       "        text-align: right;\n",
       "    }\n",
       "</style>\n",
       "<table border=\"1\" class=\"dataframe\">\n",
       "  <thead>\n",
       "    <tr style=\"text-align: right;\">\n",
       "      <th></th>\n",
       "      <th>playerID</th>\n",
       "      <th>nameFirst</th>\n",
       "      <th>nameLast</th>\n",
       "      <th>G</th>\n",
       "    </tr>\n",
       "  </thead>\n",
       "  <tbody>\n",
       "    <tr>\n",
       "      <th>0</th>\n",
       "      <td>rosepe01</td>\n",
       "      <td>Pete</td>\n",
       "      <td>Rose</td>\n",
       "      <td>3562</td>\n",
       "    </tr>\n",
       "    <tr>\n",
       "      <th>1</th>\n",
       "      <td>yastrca01</td>\n",
       "      <td>Carl</td>\n",
       "      <td>Yastrzemski</td>\n",
       "      <td>3308</td>\n",
       "    </tr>\n",
       "    <tr>\n",
       "      <th>2</th>\n",
       "      <td>aaronha01</td>\n",
       "      <td>Hank</td>\n",
       "      <td>Aaron</td>\n",
       "      <td>3298</td>\n",
       "    </tr>\n",
       "    <tr>\n",
       "      <th>3</th>\n",
       "      <td>henderi01</td>\n",
       "      <td>Rickey</td>\n",
       "      <td>Henderson</td>\n",
       "      <td>3081</td>\n",
       "    </tr>\n",
       "    <tr>\n",
       "      <th>4</th>\n",
       "      <td>cobbty01</td>\n",
       "      <td>Ty</td>\n",
       "      <td>Cobb</td>\n",
       "      <td>3035</td>\n",
       "    </tr>\n",
       "  </tbody>\n",
       "</table>\n",
       "</div>"
      ],
      "text/plain": [
       "    playerID nameFirst     nameLast     G\n",
       "0   rosepe01      Pete         Rose  3562\n",
       "1  yastrca01      Carl  Yastrzemski  3308\n",
       "2  aaronha01      Hank        Aaron  3298\n",
       "3  henderi01    Rickey    Henderson  3081\n",
       "4   cobbty01        Ty         Cobb  3035"
      ]
     },
     "execution_count": 54,
     "metadata": {},
     "output_type": "execute_result"
    }
   ],
   "source": [
    "by_games.nlargest(5, 'G').reset_index(drop=True)"
   ]
  },
  {
   "cell_type": "markdown",
   "metadata": {},
   "source": [
    "### 15) How many players have had more than 3000 hits for their careers while also hitting 500 or more HRs?"
   ]
  },
  {
   "cell_type": "code",
   "execution_count": 55,
   "metadata": {
    "collapsed": true
   },
   "outputs": [],
   "source": [
    "byd = pd.DataFrame(df.pivot_table(values=['H','HR'],index=['playerID','nameFirst','nameLast'],aggfunc= np.sum)).reset_index()"
   ]
  },
  {
   "cell_type": "code",
   "execution_count": 56,
   "metadata": {
    "collapsed": true
   },
   "outputs": [],
   "source": [
    "##grouping players and adding their hits and home runs"
   ]
  },
  {
   "cell_type": "code",
   "execution_count": 57,
   "metadata": {
    "collapsed": true
   },
   "outputs": [],
   "source": [
    "player_hr_hits = byd[((byd['HR']>=500 ) & (byd['H']> 3000))]"
   ]
  },
  {
   "cell_type": "code",
   "execution_count": 58,
   "metadata": {},
   "outputs": [
    {
     "data": {
      "text/plain": [
       "5"
      ]
     },
     "execution_count": 58,
     "metadata": {},
     "output_type": "execute_result"
    }
   ],
   "source": [
    "player_hr_hits['playerID'].count()"
   ]
  },
  {
   "cell_type": "code",
   "execution_count": 59,
   "metadata": {
    "scrolled": true
   },
   "outputs": [
    {
     "data": {
      "text/html": [
       "<div>\n",
       "<style scoped>\n",
       "    .dataframe tbody tr th:only-of-type {\n",
       "        vertical-align: middle;\n",
       "    }\n",
       "\n",
       "    .dataframe tbody tr th {\n",
       "        vertical-align: top;\n",
       "    }\n",
       "\n",
       "    .dataframe thead th {\n",
       "        text-align: right;\n",
       "    }\n",
       "</style>\n",
       "<table border=\"1\" class=\"dataframe\">\n",
       "  <thead>\n",
       "    <tr style=\"text-align: right;\">\n",
       "      <th></th>\n",
       "      <th>playerID</th>\n",
       "      <th>nameFirst</th>\n",
       "      <th>nameLast</th>\n",
       "      <th>H</th>\n",
       "      <th>HR</th>\n",
       "    </tr>\n",
       "  </thead>\n",
       "  <tbody>\n",
       "    <tr>\n",
       "      <th>0</th>\n",
       "      <td>aaronha01</td>\n",
       "      <td>Hank</td>\n",
       "      <td>Aaron</td>\n",
       "      <td>3771</td>\n",
       "      <td>755</td>\n",
       "    </tr>\n",
       "    <tr>\n",
       "      <th>1</th>\n",
       "      <td>mayswi01</td>\n",
       "      <td>Willie</td>\n",
       "      <td>Mays</td>\n",
       "      <td>3283</td>\n",
       "      <td>660</td>\n",
       "    </tr>\n",
       "    <tr>\n",
       "      <th>2</th>\n",
       "      <td>murraed02</td>\n",
       "      <td>Eddie</td>\n",
       "      <td>Murray</td>\n",
       "      <td>3255</td>\n",
       "      <td>504</td>\n",
       "    </tr>\n",
       "    <tr>\n",
       "      <th>3</th>\n",
       "      <td>palmera01</td>\n",
       "      <td>Rafael</td>\n",
       "      <td>Palmeiro</td>\n",
       "      <td>3020</td>\n",
       "      <td>569</td>\n",
       "    </tr>\n",
       "    <tr>\n",
       "      <th>4</th>\n",
       "      <td>rodrial01</td>\n",
       "      <td>Alex</td>\n",
       "      <td>Rodriguez</td>\n",
       "      <td>3115</td>\n",
       "      <td>696</td>\n",
       "    </tr>\n",
       "  </tbody>\n",
       "</table>\n",
       "</div>"
      ],
      "text/plain": [
       "    playerID nameFirst   nameLast     H   HR\n",
       "0  aaronha01      Hank      Aaron  3771  755\n",
       "1   mayswi01    Willie       Mays  3283  660\n",
       "2  murraed02     Eddie     Murray  3255  504\n",
       "3  palmera01    Rafael   Palmeiro  3020  569\n",
       "4  rodrial01      Alex  Rodriguez  3115  696"
      ]
     },
     "execution_count": 59,
     "metadata": {},
     "output_type": "execute_result"
    }
   ],
   "source": [
    "player_hr_hits.reset_index(drop=True)"
   ]
  },
  {
   "cell_type": "markdown",
   "metadata": {},
   "source": [
    "### 16) How many HRs were hit during the entire 1988 season?  Just a number is okay here"
   ]
  },
  {
   "cell_type": "code",
   "execution_count": 60,
   "metadata": {},
   "outputs": [
    {
     "data": {
      "text/plain": [
       "yearID\n",
       "1988    3180\n",
       "Name: HR, dtype: int64"
      ]
     },
     "execution_count": 60,
     "metadata": {},
     "output_type": "execute_result"
    }
   ],
   "source": [
    "##Slicing data for year and then adding the homeruns for that year\n",
    "hit = df[df['yearID']==1988]\n",
    "hit.groupby('yearID')['HR'].sum()"
   ]
  },
  {
   "cell_type": "markdown",
   "metadata": {},
   "source": [
    "### 17) Please filter out and show me the top 3 average seasons by Wade Boggs during his career in seasons in which he had at least 500 ABs.  I would like a dataframe sorted by average."
   ]
  },
  {
   "cell_type": "code",
   "execution_count": 61,
   "metadata": {},
   "outputs": [],
   "source": [
    "boggs_top = df[(df['nameFirst']=='Wade') & (df['nameLast']=='Boggs')].pivot_table(values=['H','AB'], index=['nameFirst','nameLast','playerID','yearID'],aggfunc='sum').reset_index()\n"
   ]
  },
  {
   "cell_type": "code",
   "execution_count": 62,
   "metadata": {
    "collapsed": true
   },
   "outputs": [],
   "source": [
    "boggs_top['average'] = boggs_top['H']/boggs_top['AB']"
   ]
  },
  {
   "cell_type": "code",
   "execution_count": 63,
   "metadata": {
    "collapsed": true
   },
   "outputs": [],
   "source": [
    "## Grouped all the data as per wade boggs and added his total hits and AB then calculated his top 3 avg with more than 500 AB"
   ]
  },
  {
   "cell_type": "code",
   "execution_count": 64,
   "metadata": {},
   "outputs": [],
   "source": [
    "boggs_top = boggs_top[(boggs_top['AB']>=500)]"
   ]
  },
  {
   "cell_type": "code",
   "execution_count": 65,
   "metadata": {},
   "outputs": [
    {
     "data": {
      "text/html": [
       "<div>\n",
       "<style scoped>\n",
       "    .dataframe tbody tr th:only-of-type {\n",
       "        vertical-align: middle;\n",
       "    }\n",
       "\n",
       "    .dataframe tbody tr th {\n",
       "        vertical-align: top;\n",
       "    }\n",
       "\n",
       "    .dataframe thead th {\n",
       "        text-align: right;\n",
       "    }\n",
       "</style>\n",
       "<table border=\"1\" class=\"dataframe\">\n",
       "  <thead>\n",
       "    <tr style=\"text-align: right;\">\n",
       "      <th></th>\n",
       "      <th>nameFirst</th>\n",
       "      <th>nameLast</th>\n",
       "      <th>playerID</th>\n",
       "      <th>yearID</th>\n",
       "      <th>AB</th>\n",
       "      <th>H</th>\n",
       "      <th>average</th>\n",
       "    </tr>\n",
       "  </thead>\n",
       "  <tbody>\n",
       "    <tr>\n",
       "      <th>0</th>\n",
       "      <td>Wade</td>\n",
       "      <td>Boggs</td>\n",
       "      <td>boggswa01</td>\n",
       "      <td>1985</td>\n",
       "      <td>653</td>\n",
       "      <td>240</td>\n",
       "      <td>0.367534</td>\n",
       "    </tr>\n",
       "    <tr>\n",
       "      <th>1</th>\n",
       "      <td>Wade</td>\n",
       "      <td>Boggs</td>\n",
       "      <td>boggswa01</td>\n",
       "      <td>1988</td>\n",
       "      <td>584</td>\n",
       "      <td>214</td>\n",
       "      <td>0.366438</td>\n",
       "    </tr>\n",
       "    <tr>\n",
       "      <th>2</th>\n",
       "      <td>Wade</td>\n",
       "      <td>Boggs</td>\n",
       "      <td>boggswa01</td>\n",
       "      <td>1987</td>\n",
       "      <td>551</td>\n",
       "      <td>200</td>\n",
       "      <td>0.362976</td>\n",
       "    </tr>\n",
       "  </tbody>\n",
       "</table>\n",
       "</div>"
      ],
      "text/plain": [
       "  nameFirst nameLast   playerID  yearID   AB    H   average\n",
       "0      Wade    Boggs  boggswa01    1985  653  240  0.367534\n",
       "1      Wade    Boggs  boggswa01    1988  584  214  0.366438\n",
       "2      Wade    Boggs  boggswa01    1987  551  200  0.362976"
      ]
     },
     "execution_count": 65,
     "metadata": {},
     "output_type": "execute_result"
    }
   ],
   "source": [
    "boggs_top.nlargest(3,'average').reset_index(drop=True)"
   ]
  },
  {
   "cell_type": "markdown",
   "metadata": {},
   "source": [
    "### 18) Please filter out the top OBPs for the 1995 season with at least 400 PAs, sorted by OBP.  I would like a dataframe for this"
   ]
  },
  {
   "cell_type": "code",
   "execution_count": 66,
   "metadata": {
    "scrolled": true
   },
   "outputs": [
    {
     "data": {
      "text/html": [
       "<div>\n",
       "<style scoped>\n",
       "    .dataframe tbody tr th:only-of-type {\n",
       "        vertical-align: middle;\n",
       "    }\n",
       "\n",
       "    .dataframe tbody tr th {\n",
       "        vertical-align: top;\n",
       "    }\n",
       "\n",
       "    .dataframe thead th {\n",
       "        text-align: right;\n",
       "    }\n",
       "</style>\n",
       "<table border=\"1\" class=\"dataframe\">\n",
       "  <thead>\n",
       "    <tr style=\"text-align: right;\">\n",
       "      <th></th>\n",
       "      <th>nameFirst</th>\n",
       "      <th>nameLast</th>\n",
       "      <th>playerID</th>\n",
       "      <th>AB</th>\n",
       "      <th>BB</th>\n",
       "      <th>H</th>\n",
       "      <th>HBP</th>\n",
       "      <th>PA</th>\n",
       "      <th>SF</th>\n",
       "      <th>OBP</th>\n",
       "    </tr>\n",
       "  </thead>\n",
       "  <tbody>\n",
       "    <tr>\n",
       "      <th>0</th>\n",
       "      <td>Edgar</td>\n",
       "      <td>Martinez</td>\n",
       "      <td>martied01</td>\n",
       "      <td>511</td>\n",
       "      <td>116</td>\n",
       "      <td>182</td>\n",
       "      <td>8.0</td>\n",
       "      <td>639.0</td>\n",
       "      <td>4.0</td>\n",
       "      <td>0.478873</td>\n",
       "    </tr>\n",
       "    <tr>\n",
       "      <th>1</th>\n",
       "      <td>Frank</td>\n",
       "      <td>Thomas</td>\n",
       "      <td>thomafr04</td>\n",
       "      <td>493</td>\n",
       "      <td>136</td>\n",
       "      <td>152</td>\n",
       "      <td>6.0</td>\n",
       "      <td>647.0</td>\n",
       "      <td>12.0</td>\n",
       "      <td>0.454405</td>\n",
       "    </tr>\n",
       "    <tr>\n",
       "      <th>2</th>\n",
       "      <td>Mark</td>\n",
       "      <td>McGwire</td>\n",
       "      <td>mcgwima01</td>\n",
       "      <td>317</td>\n",
       "      <td>88</td>\n",
       "      <td>87</td>\n",
       "      <td>11.0</td>\n",
       "      <td>422.0</td>\n",
       "      <td>6.0</td>\n",
       "      <td>0.440758</td>\n",
       "    </tr>\n",
       "    <tr>\n",
       "      <th>3</th>\n",
       "      <td>Jim</td>\n",
       "      <td>Thome</td>\n",
       "      <td>thomeji01</td>\n",
       "      <td>452</td>\n",
       "      <td>97</td>\n",
       "      <td>142</td>\n",
       "      <td>5.0</td>\n",
       "      <td>557.0</td>\n",
       "      <td>3.0</td>\n",
       "      <td>0.438061</td>\n",
       "    </tr>\n",
       "    <tr>\n",
       "      <th>4</th>\n",
       "      <td>Barry</td>\n",
       "      <td>Bonds</td>\n",
       "      <td>bondsba01</td>\n",
       "      <td>506</td>\n",
       "      <td>120</td>\n",
       "      <td>149</td>\n",
       "      <td>5.0</td>\n",
       "      <td>635.0</td>\n",
       "      <td>4.0</td>\n",
       "      <td>0.431496</td>\n",
       "    </tr>\n",
       "  </tbody>\n",
       "</table>\n",
       "</div>"
      ],
      "text/plain": [
       "  nameFirst  nameLast   playerID   AB   BB    H   HBP     PA    SF       OBP\n",
       "0     Edgar  Martinez  martied01  511  116  182   8.0  639.0   4.0  0.478873\n",
       "1     Frank    Thomas  thomafr04  493  136  152   6.0  647.0  12.0  0.454405\n",
       "2      Mark   McGwire  mcgwima01  317   88   87  11.0  422.0   6.0  0.440758\n",
       "3       Jim     Thome  thomeji01  452   97  142   5.0  557.0   3.0  0.438061\n",
       "4     Barry     Bonds  bondsba01  506  120  149   5.0  635.0   4.0  0.431496"
      ]
     },
     "execution_count": 66,
     "metadata": {},
     "output_type": "execute_result"
    }
   ],
   "source": [
    "##Grouping data with players and adding the values required for calculating OBP and then slicing data for PA more than 400\n",
    "obp = df[df['yearID'] == 1995].pivot_table(values=['AB','BB','H','HBP','SF','PA'], index=['nameFirst','nameLast','playerID'],aggfunc='sum').reset_index()\n",
    "obp['OBP'] = (obp['H']+obp['BB']+obp['HBP'])/(obp['AB']+obp['BB']+obp['HBP']+obp['SF'])\n",
    "obp[obp['PA'] >= 400].dropna().sort_values(by='OBP',ascending=False).reset_index(drop=True).head(5)"
   ]
  },
  {
   "cell_type": "markdown",
   "metadata": {},
   "source": [
    "### 19) Who had the most 3Bs (in total) in 1922, 1925, 1926, and 1928?  I would like a dataframe with just the leader"
   ]
  },
  {
   "cell_type": "code",
   "execution_count": 67,
   "metadata": {
    "collapsed": true
   },
   "outputs": [],
   "source": [
    "##Finding total 3bs of all seasons and then finding the index for maximum and displaying in dataframe\n",
    "bf = pd.DataFrame(df.pivot_table(values=['3B'],index=['playerID','nameFirst','nameLast', 'yearID'],aggfunc= np.sum)).reset_index()"
   ]
  },
  {
   "cell_type": "code",
   "execution_count": 68,
   "metadata": {
    "collapsed": true
   },
   "outputs": [],
   "source": [
    "bf= bf[((bf['yearID']==1922) | (bf['yearID']==1925) | (bf['yearID']==1926) | (bf['yearID']==1928))] "
   ]
  },
  {
   "cell_type": "code",
   "execution_count": 69,
   "metadata": {
    "collapsed": true
   },
   "outputs": [],
   "source": [
    "ix = bf.groupby(['yearID'])['3B'].transform(max) == bf['3B']"
   ]
  },
  {
   "cell_type": "code",
   "execution_count": 70,
   "metadata": {},
   "outputs": [
    {
     "data": {
      "text/html": [
       "<div>\n",
       "<style scoped>\n",
       "    .dataframe tbody tr th:only-of-type {\n",
       "        vertical-align: middle;\n",
       "    }\n",
       "\n",
       "    .dataframe tbody tr th {\n",
       "        vertical-align: top;\n",
       "    }\n",
       "\n",
       "    .dataframe thead th {\n",
       "        text-align: right;\n",
       "    }\n",
       "</style>\n",
       "<table border=\"1\" class=\"dataframe\">\n",
       "  <thead>\n",
       "    <tr style=\"text-align: right;\">\n",
       "      <th></th>\n",
       "      <th>playerID</th>\n",
       "      <th>nameFirst</th>\n",
       "      <th>nameLast</th>\n",
       "      <th>yearID</th>\n",
       "      <th>3B</th>\n",
       "    </tr>\n",
       "  </thead>\n",
       "  <tbody>\n",
       "    <tr>\n",
       "      <th>0</th>\n",
       "      <td>daubeja01</td>\n",
       "      <td>Jake</td>\n",
       "      <td>Daubert</td>\n",
       "      <td>1922</td>\n",
       "      <td>22</td>\n",
       "    </tr>\n",
       "    <tr>\n",
       "      <th>1</th>\n",
       "      <td>cuyleki01</td>\n",
       "      <td>Kiki</td>\n",
       "      <td>Cuyler</td>\n",
       "      <td>1925</td>\n",
       "      <td>26</td>\n",
       "    </tr>\n",
       "    <tr>\n",
       "      <th>2</th>\n",
       "      <td>wanerpa01</td>\n",
       "      <td>Paul</td>\n",
       "      <td>Waner</td>\n",
       "      <td>1926</td>\n",
       "      <td>22</td>\n",
       "    </tr>\n",
       "    <tr>\n",
       "      <th>3</th>\n",
       "      <td>combsea01</td>\n",
       "      <td>Earle</td>\n",
       "      <td>Combs</td>\n",
       "      <td>1928</td>\n",
       "      <td>21</td>\n",
       "    </tr>\n",
       "  </tbody>\n",
       "</table>\n",
       "</div>"
      ],
      "text/plain": [
       "    playerID nameFirst nameLast  yearID  3B\n",
       "0  daubeja01      Jake  Daubert    1922  22\n",
       "1  cuyleki01      Kiki   Cuyler    1925  26\n",
       "2  wanerpa01      Paul    Waner    1926  22\n",
       "3  combsea01     Earle    Combs    1928  21"
      ]
     },
     "execution_count": 70,
     "metadata": {},
     "output_type": "execute_result"
    }
   ],
   "source": [
    "bf[ix].sort_values('yearID').reset_index(drop=True)"
   ]
  },
  {
   "cell_type": "markdown",
   "metadata": {},
   "source": [
    "### 20) How many players have hit 30 or more HRs in season while also stealing (SB) 30 more or bases?  A number is okay here"
   ]
  },
  {
   "cell_type": "code",
   "execution_count": 71,
   "metadata": {
    "collapsed": true
   },
   "outputs": [],
   "source": [
    "##Grouping players season wise then adding hr and sb\n",
    "byd = pd.DataFrame(df.pivot_table(values=['HR','SB'],index=['yearID','playerID','nameFirst','nameLast'],aggfunc= np.sum)).reset_index()"
   ]
  },
  {
   "cell_type": "code",
   "execution_count": 72,
   "metadata": {
    "collapsed": true
   },
   "outputs": [],
   "source": [
    "byd= byd[((byd['SB']>=30) & (byd['HR']>=30))] "
   ]
  },
  {
   "cell_type": "code",
   "execution_count": 73,
   "metadata": {},
   "outputs": [
    {
     "data": {
      "text/plain": [
       "38"
      ]
     },
     "execution_count": 73,
     "metadata": {},
     "output_type": "execute_result"
    }
   ],
   "source": [
    "byd['playerID'].nunique()"
   ]
  },
  {
   "cell_type": "markdown",
   "metadata": {},
   "source": [
    "### 21) Who had the highest OBP is 1986 with at least 400 PAs? (Dataframe)"
   ]
  },
  {
   "cell_type": "code",
   "execution_count": 74,
   "metadata": {},
   "outputs": [
    {
     "data": {
      "text/html": [
       "<div>\n",
       "<style scoped>\n",
       "    .dataframe tbody tr th:only-of-type {\n",
       "        vertical-align: middle;\n",
       "    }\n",
       "\n",
       "    .dataframe tbody tr th {\n",
       "        vertical-align: top;\n",
       "    }\n",
       "\n",
       "    .dataframe thead th {\n",
       "        text-align: right;\n",
       "    }\n",
       "</style>\n",
       "<table border=\"1\" class=\"dataframe\">\n",
       "  <thead>\n",
       "    <tr style=\"text-align: right;\">\n",
       "      <th></th>\n",
       "      <th>nameFirst</th>\n",
       "      <th>nameLast</th>\n",
       "      <th>playerID</th>\n",
       "      <th>AB</th>\n",
       "      <th>BB</th>\n",
       "      <th>H</th>\n",
       "      <th>HBP</th>\n",
       "      <th>PA</th>\n",
       "      <th>SF</th>\n",
       "      <th>OBP</th>\n",
       "    </tr>\n",
       "  </thead>\n",
       "  <tbody>\n",
       "    <tr>\n",
       "      <th>0</th>\n",
       "      <td>Wade</td>\n",
       "      <td>Boggs</td>\n",
       "      <td>boggswa01</td>\n",
       "      <td>580</td>\n",
       "      <td>105</td>\n",
       "      <td>207</td>\n",
       "      <td>0.0</td>\n",
       "      <td>693.0</td>\n",
       "      <td>4.0</td>\n",
       "      <td>0.45283</td>\n",
       "    </tr>\n",
       "  </tbody>\n",
       "</table>\n",
       "</div>"
      ],
      "text/plain": [
       "  nameFirst nameLast   playerID   AB   BB    H  HBP     PA   SF      OBP\n",
       "0      Wade    Boggs  boggswa01  580  105  207  0.0  693.0  4.0  0.45283"
      ]
     },
     "execution_count": 74,
     "metadata": {},
     "output_type": "execute_result"
    }
   ],
   "source": [
    "maxOBP = df[df['yearID'] == 1986].pivot_table(values=['AB','BB','H','HBP','SF','PA'], index=['nameFirst','nameLast','playerID'],aggfunc='sum').reset_index()\n",
    "maxOBP['OBP'] = (maxOBP['H']+maxOBP['BB']+maxOBP['HBP'])/(maxOBP['AB']+maxOBP['BB']+maxOBP['HBP']+maxOBP['SF'])\n",
    "maxOBP[maxOBP['PA'] >= 400].sort_values(by='OBP',ascending=False).reset_index(drop=True).head(1)"
   ]
  },
  {
   "cell_type": "code",
   "execution_count": 75,
   "metadata": {},
   "outputs": [],
   "source": [
    "## Grouped the daya of 1986 then calculated the highest OBP by sorting the data and also for player with more than 400PA"
   ]
  },
  {
   "cell_type": "markdown",
   "metadata": {},
   "source": [
    "### 22) Same question but for 1997 and only in the NL (check league ID)? (Dataframe)"
   ]
  },
  {
   "cell_type": "code",
   "execution_count": 76,
   "metadata": {
    "collapsed": true
   },
   "outputs": [],
   "source": [
    "nl = pd.DataFrame(df.pivot_table(values=['H','IBB','AB','SF','SH','BB','HBP'],index=['playerID','nameFirst','nameLast', 'yearID','lgID'],aggfunc= np.sum)).reset_index()"
   ]
  },
  {
   "cell_type": "code",
   "execution_count": 77,
   "metadata": {
    "collapsed": true
   },
   "outputs": [],
   "source": [
    "\n",
    "nl['PA']= nl['HBP'] + nl['AB']+nl['SF'] +nl['SH'] +nl['BB']\n",
    "nl['AVG'] = nl['H']/nl['AB']\n",
    "nl['OBP'] = (nl['H'] + nl['BB']+nl['HBP'] )/(nl['AB'] +nl['BB']+nl['HBP'] +nl['SF'])\n"
   ]
  },
  {
   "cell_type": "code",
   "execution_count": 78,
   "metadata": {},
   "outputs": [],
   "source": [
    "##Slicing the data for season and PA and also League ID as NL"
   ]
  },
  {
   "cell_type": "code",
   "execution_count": 79,
   "metadata": {
    "collapsed": true
   },
   "outputs": [],
   "source": [
    "nl= nl[((nl['yearID']==1997) &(nl['PA']>=400)&(nl['lgID']== 'NL'))]"
   ]
  },
  {
   "cell_type": "code",
   "execution_count": 80,
   "metadata": {
    "collapsed": true
   },
   "outputs": [],
   "source": [
    "nl= nl[(nl['OBP']==nl['OBP'].max())]"
   ]
  },
  {
   "cell_type": "code",
   "execution_count": 81,
   "metadata": {},
   "outputs": [
    {
     "data": {
      "text/html": [
       "<div>\n",
       "<style scoped>\n",
       "    .dataframe tbody tr th:only-of-type {\n",
       "        vertical-align: middle;\n",
       "    }\n",
       "\n",
       "    .dataframe tbody tr th {\n",
       "        vertical-align: top;\n",
       "    }\n",
       "\n",
       "    .dataframe thead th {\n",
       "        text-align: right;\n",
       "    }\n",
       "</style>\n",
       "<table border=\"1\" class=\"dataframe\">\n",
       "  <thead>\n",
       "    <tr style=\"text-align: right;\">\n",
       "      <th></th>\n",
       "      <th>playerID</th>\n",
       "      <th>nameFirst</th>\n",
       "      <th>nameLast</th>\n",
       "      <th>yearID</th>\n",
       "      <th>lgID</th>\n",
       "      <th>AB</th>\n",
       "      <th>BB</th>\n",
       "      <th>H</th>\n",
       "      <th>HBP</th>\n",
       "      <th>IBB</th>\n",
       "      <th>SF</th>\n",
       "      <th>SH</th>\n",
       "      <th>PA</th>\n",
       "      <th>AVG</th>\n",
       "      <th>OBP</th>\n",
       "    </tr>\n",
       "  </thead>\n",
       "  <tbody>\n",
       "    <tr>\n",
       "      <th>0</th>\n",
       "      <td>walkela01</td>\n",
       "      <td>Larry</td>\n",
       "      <td>Walker</td>\n",
       "      <td>1997</td>\n",
       "      <td>NL</td>\n",
       "      <td>568</td>\n",
       "      <td>78</td>\n",
       "      <td>208</td>\n",
       "      <td>14.0</td>\n",
       "      <td>14.0</td>\n",
       "      <td>4.0</td>\n",
       "      <td>0.0</td>\n",
       "      <td>664.0</td>\n",
       "      <td>0.366197</td>\n",
       "      <td>0.451807</td>\n",
       "    </tr>\n",
       "  </tbody>\n",
       "</table>\n",
       "</div>"
      ],
      "text/plain": [
       "    playerID nameFirst nameLast  yearID lgID   AB  BB    H   HBP   IBB   SF  \\\n",
       "0  walkela01     Larry   Walker    1997   NL  568  78  208  14.0  14.0  4.0   \n",
       "\n",
       "    SH     PA       AVG       OBP  \n",
       "0  0.0  664.0  0.366197  0.451807  "
      ]
     },
     "execution_count": 81,
     "metadata": {},
     "output_type": "execute_result"
    }
   ],
   "source": [
    "nl.reset_index(drop=True)"
   ]
  },
  {
   "cell_type": "markdown",
   "metadata": {},
   "source": [
    "### 23) Who had more than the league average HRs in 2012 (filter out all players with less 500 PAs)? (Dataframe)"
   ]
  },
  {
   "cell_type": "code",
   "execution_count": 82,
   "metadata": {},
   "outputs": [
    {
     "data": {
      "text/html": [
       "<div>\n",
       "<style scoped>\n",
       "    .dataframe tbody tr th:only-of-type {\n",
       "        vertical-align: middle;\n",
       "    }\n",
       "\n",
       "    .dataframe tbody tr th {\n",
       "        vertical-align: top;\n",
       "    }\n",
       "\n",
       "    .dataframe thead th {\n",
       "        text-align: right;\n",
       "    }\n",
       "</style>\n",
       "<table border=\"1\" class=\"dataframe\">\n",
       "  <thead>\n",
       "    <tr style=\"text-align: right;\">\n",
       "      <th></th>\n",
       "      <th>lgID</th>\n",
       "      <th>nameFirst</th>\n",
       "      <th>nameLast</th>\n",
       "      <th>playerID</th>\n",
       "      <th>HR</th>\n",
       "      <th>PA</th>\n",
       "    </tr>\n",
       "  </thead>\n",
       "  <tbody>\n",
       "    <tr>\n",
       "      <th>0</th>\n",
       "      <td>NL</td>\n",
       "      <td>Ryan</td>\n",
       "      <td>Braun</td>\n",
       "      <td>braunry02</td>\n",
       "      <td>41</td>\n",
       "      <td>677.0</td>\n",
       "    </tr>\n",
       "    <tr>\n",
       "      <th>1</th>\n",
       "      <td>NL</td>\n",
       "      <td>Ryan</td>\n",
       "      <td>Braun</td>\n",
       "      <td>braunry02</td>\n",
       "      <td>41</td>\n",
       "      <td>677.0</td>\n",
       "    </tr>\n",
       "    <tr>\n",
       "      <th>2</th>\n",
       "      <td>NL</td>\n",
       "      <td>Giancarlo</td>\n",
       "      <td>Stanton</td>\n",
       "      <td>stantmi03</td>\n",
       "      <td>37</td>\n",
       "      <td>501.0</td>\n",
       "    </tr>\n",
       "    <tr>\n",
       "      <th>3</th>\n",
       "      <td>NL</td>\n",
       "      <td>Giancarlo</td>\n",
       "      <td>Stanton</td>\n",
       "      <td>stantmi03</td>\n",
       "      <td>37</td>\n",
       "      <td>501.0</td>\n",
       "    </tr>\n",
       "    <tr>\n",
       "      <th>4</th>\n",
       "      <td>NL</td>\n",
       "      <td>Jay</td>\n",
       "      <td>Bruce</td>\n",
       "      <td>bruceja01</td>\n",
       "      <td>34</td>\n",
       "      <td>633.0</td>\n",
       "    </tr>\n",
       "    <tr>\n",
       "      <th>5</th>\n",
       "      <td>NL</td>\n",
       "      <td>Jay</td>\n",
       "      <td>Bruce</td>\n",
       "      <td>bruceja01</td>\n",
       "      <td>34</td>\n",
       "      <td>633.0</td>\n",
       "    </tr>\n",
       "    <tr>\n",
       "      <th>6</th>\n",
       "      <td>NL</td>\n",
       "      <td>Adam</td>\n",
       "      <td>LaRoche</td>\n",
       "      <td>larocad01</td>\n",
       "      <td>33</td>\n",
       "      <td>647.0</td>\n",
       "    </tr>\n",
       "    <tr>\n",
       "      <th>7</th>\n",
       "      <td>NL</td>\n",
       "      <td>Adam</td>\n",
       "      <td>LaRoche</td>\n",
       "      <td>larocad01</td>\n",
       "      <td>33</td>\n",
       "      <td>647.0</td>\n",
       "    </tr>\n",
       "    <tr>\n",
       "      <th>8</th>\n",
       "      <td>NL</td>\n",
       "      <td>Alfonso</td>\n",
       "      <td>Soriano</td>\n",
       "      <td>soriaal01</td>\n",
       "      <td>32</td>\n",
       "      <td>615.0</td>\n",
       "    </tr>\n",
       "    <tr>\n",
       "      <th>9</th>\n",
       "      <td>NL</td>\n",
       "      <td>Carlos</td>\n",
       "      <td>Beltran</td>\n",
       "      <td>beltrca01</td>\n",
       "      <td>32</td>\n",
       "      <td>619.0</td>\n",
       "    </tr>\n",
       "    <tr>\n",
       "      <th>10</th>\n",
       "      <td>NL</td>\n",
       "      <td>Ike</td>\n",
       "      <td>Davis</td>\n",
       "      <td>davisik02</td>\n",
       "      <td>32</td>\n",
       "      <td>584.0</td>\n",
       "    </tr>\n",
       "    <tr>\n",
       "      <th>11</th>\n",
       "      <td>NL</td>\n",
       "      <td>Alfonso</td>\n",
       "      <td>Soriano</td>\n",
       "      <td>soriaal01</td>\n",
       "      <td>32</td>\n",
       "      <td>615.0</td>\n",
       "    </tr>\n",
       "    <tr>\n",
       "      <th>12</th>\n",
       "      <td>NL</td>\n",
       "      <td>Carlos</td>\n",
       "      <td>Beltran</td>\n",
       "      <td>beltrca01</td>\n",
       "      <td>32</td>\n",
       "      <td>619.0</td>\n",
       "    </tr>\n",
       "    <tr>\n",
       "      <th>13</th>\n",
       "      <td>NL</td>\n",
       "      <td>Ike</td>\n",
       "      <td>Davis</td>\n",
       "      <td>davisik02</td>\n",
       "      <td>32</td>\n",
       "      <td>584.0</td>\n",
       "    </tr>\n",
       "    <tr>\n",
       "      <th>14</th>\n",
       "      <td>NL</td>\n",
       "      <td>Andrew</td>\n",
       "      <td>McCutchen</td>\n",
       "      <td>mccutan01</td>\n",
       "      <td>31</td>\n",
       "      <td>673.0</td>\n",
       "    </tr>\n",
       "    <tr>\n",
       "      <th>15</th>\n",
       "      <td>NL</td>\n",
       "      <td>Chase</td>\n",
       "      <td>Headley</td>\n",
       "      <td>headlch01</td>\n",
       "      <td>31</td>\n",
       "      <td>699.0</td>\n",
       "    </tr>\n",
       "    <tr>\n",
       "      <th>16</th>\n",
       "      <td>NL</td>\n",
       "      <td>Andrew</td>\n",
       "      <td>McCutchen</td>\n",
       "      <td>mccutan01</td>\n",
       "      <td>31</td>\n",
       "      <td>673.0</td>\n",
       "    </tr>\n",
       "    <tr>\n",
       "      <th>17</th>\n",
       "      <td>NL</td>\n",
       "      <td>Chase</td>\n",
       "      <td>Headley</td>\n",
       "      <td>headlch01</td>\n",
       "      <td>31</td>\n",
       "      <td>699.0</td>\n",
       "    </tr>\n",
       "    <tr>\n",
       "      <th>18</th>\n",
       "      <td>NL</td>\n",
       "      <td>Corey</td>\n",
       "      <td>Hart</td>\n",
       "      <td>hartco01</td>\n",
       "      <td>30</td>\n",
       "      <td>622.0</td>\n",
       "    </tr>\n",
       "    <tr>\n",
       "      <th>19</th>\n",
       "      <td>NL</td>\n",
       "      <td>Jason</td>\n",
       "      <td>Kubel</td>\n",
       "      <td>kubelja01</td>\n",
       "      <td>30</td>\n",
       "      <td>571.0</td>\n",
       "    </tr>\n",
       "    <tr>\n",
       "      <th>20</th>\n",
       "      <td>NL</td>\n",
       "      <td>Pedro</td>\n",
       "      <td>Alvarez</td>\n",
       "      <td>alvarpe01</td>\n",
       "      <td>30</td>\n",
       "      <td>586.0</td>\n",
       "    </tr>\n",
       "    <tr>\n",
       "      <th>21</th>\n",
       "      <td>NL</td>\n",
       "      <td>Corey</td>\n",
       "      <td>Hart</td>\n",
       "      <td>hartco01</td>\n",
       "      <td>30</td>\n",
       "      <td>622.0</td>\n",
       "    </tr>\n",
       "    <tr>\n",
       "      <th>22</th>\n",
       "      <td>NL</td>\n",
       "      <td>Jason</td>\n",
       "      <td>Kubel</td>\n",
       "      <td>kubelja01</td>\n",
       "      <td>30</td>\n",
       "      <td>571.0</td>\n",
       "    </tr>\n",
       "    <tr>\n",
       "      <th>23</th>\n",
       "      <td>NL</td>\n",
       "      <td>Pedro</td>\n",
       "      <td>Alvarez</td>\n",
       "      <td>alvarpe01</td>\n",
       "      <td>30</td>\n",
       "      <td>586.0</td>\n",
       "    </tr>\n",
       "    <tr>\n",
       "      <th>24</th>\n",
       "      <td>NL</td>\n",
       "      <td>Aramis</td>\n",
       "      <td>Ramirez</td>\n",
       "      <td>ramirar01</td>\n",
       "      <td>27</td>\n",
       "      <td>630.0</td>\n",
       "    </tr>\n",
       "    <tr>\n",
       "      <th>25</th>\n",
       "      <td>NL</td>\n",
       "      <td>Garrett</td>\n",
       "      <td>Jones</td>\n",
       "      <td>jonesga02</td>\n",
       "      <td>27</td>\n",
       "      <td>515.0</td>\n",
       "    </tr>\n",
       "    <tr>\n",
       "      <th>26</th>\n",
       "      <td>NL</td>\n",
       "      <td>Jason</td>\n",
       "      <td>Heyward</td>\n",
       "      <td>heywaja01</td>\n",
       "      <td>27</td>\n",
       "      <td>650.0</td>\n",
       "    </tr>\n",
       "    <tr>\n",
       "      <th>27</th>\n",
       "      <td>NL</td>\n",
       "      <td>Matt</td>\n",
       "      <td>Holliday</td>\n",
       "      <td>hollima01</td>\n",
       "      <td>27</td>\n",
       "      <td>688.0</td>\n",
       "    </tr>\n",
       "    <tr>\n",
       "      <th>28</th>\n",
       "      <td>NL</td>\n",
       "      <td>Aramis</td>\n",
       "      <td>Ramirez</td>\n",
       "      <td>ramirar01</td>\n",
       "      <td>27</td>\n",
       "      <td>630.0</td>\n",
       "    </tr>\n",
       "    <tr>\n",
       "      <th>29</th>\n",
       "      <td>NL</td>\n",
       "      <td>Garrett</td>\n",
       "      <td>Jones</td>\n",
       "      <td>jonesga02</td>\n",
       "      <td>27</td>\n",
       "      <td>515.0</td>\n",
       "    </tr>\n",
       "    <tr>\n",
       "      <th>...</th>\n",
       "      <td>...</td>\n",
       "      <td>...</td>\n",
       "      <td>...</td>\n",
       "      <td>...</td>\n",
       "      <td>...</td>\n",
       "      <td>...</td>\n",
       "    </tr>\n",
       "    <tr>\n",
       "      <th>96</th>\n",
       "      <td>NL</td>\n",
       "      <td>Martin</td>\n",
       "      <td>Prado</td>\n",
       "      <td>pradoma01</td>\n",
       "      <td>10</td>\n",
       "      <td>690.0</td>\n",
       "    </tr>\n",
       "    <tr>\n",
       "      <th>97</th>\n",
       "      <td>NL</td>\n",
       "      <td>Nori</td>\n",
       "      <td>Aoki</td>\n",
       "      <td>aokino01</td>\n",
       "      <td>10</td>\n",
       "      <td>588.0</td>\n",
       "    </tr>\n",
       "    <tr>\n",
       "      <th>98</th>\n",
       "      <td>NL</td>\n",
       "      <td>Martin</td>\n",
       "      <td>Prado</td>\n",
       "      <td>pradoma01</td>\n",
       "      <td>10</td>\n",
       "      <td>690.0</td>\n",
       "    </tr>\n",
       "    <tr>\n",
       "      <th>99</th>\n",
       "      <td>NL</td>\n",
       "      <td>Nori</td>\n",
       "      <td>Aoki</td>\n",
       "      <td>aokino01</td>\n",
       "      <td>10</td>\n",
       "      <td>588.0</td>\n",
       "    </tr>\n",
       "    <tr>\n",
       "      <th>100</th>\n",
       "      <td>NL</td>\n",
       "      <td>Carlos</td>\n",
       "      <td>Lee</td>\n",
       "      <td>leeca01</td>\n",
       "      <td>9</td>\n",
       "      <td>615.0</td>\n",
       "    </tr>\n",
       "    <tr>\n",
       "      <th>101</th>\n",
       "      <td>NL</td>\n",
       "      <td>David</td>\n",
       "      <td>DeJesus</td>\n",
       "      <td>dejesda01</td>\n",
       "      <td>9</td>\n",
       "      <td>582.0</td>\n",
       "    </tr>\n",
       "    <tr>\n",
       "      <th>102</th>\n",
       "      <td>NL</td>\n",
       "      <td>Michael</td>\n",
       "      <td>Bourn</td>\n",
       "      <td>bournmi01</td>\n",
       "      <td>9</td>\n",
       "      <td>703.0</td>\n",
       "    </tr>\n",
       "    <tr>\n",
       "      <th>103</th>\n",
       "      <td>NL</td>\n",
       "      <td>Yonder</td>\n",
       "      <td>Alonso</td>\n",
       "      <td>alonsyo01</td>\n",
       "      <td>9</td>\n",
       "      <td>619.0</td>\n",
       "    </tr>\n",
       "    <tr>\n",
       "      <th>104</th>\n",
       "      <td>NL</td>\n",
       "      <td>Carlos</td>\n",
       "      <td>Lee</td>\n",
       "      <td>leeca01</td>\n",
       "      <td>9</td>\n",
       "      <td>615.0</td>\n",
       "    </tr>\n",
       "    <tr>\n",
       "      <th>105</th>\n",
       "      <td>NL</td>\n",
       "      <td>David</td>\n",
       "      <td>DeJesus</td>\n",
       "      <td>dejesda01</td>\n",
       "      <td>9</td>\n",
       "      <td>582.0</td>\n",
       "    </tr>\n",
       "    <tr>\n",
       "      <th>106</th>\n",
       "      <td>NL</td>\n",
       "      <td>Michael</td>\n",
       "      <td>Bourn</td>\n",
       "      <td>bournmi01</td>\n",
       "      <td>9</td>\n",
       "      <td>703.0</td>\n",
       "    </tr>\n",
       "    <tr>\n",
       "      <th>107</th>\n",
       "      <td>NL</td>\n",
       "      <td>Yonder</td>\n",
       "      <td>Alonso</td>\n",
       "      <td>alonsyo01</td>\n",
       "      <td>9</td>\n",
       "      <td>619.0</td>\n",
       "    </tr>\n",
       "    <tr>\n",
       "      <th>108</th>\n",
       "      <td>NL</td>\n",
       "      <td>Angel</td>\n",
       "      <td>Pagan</td>\n",
       "      <td>paganan01</td>\n",
       "      <td>8</td>\n",
       "      <td>659.0</td>\n",
       "    </tr>\n",
       "    <tr>\n",
       "      <th>109</th>\n",
       "      <td>NL</td>\n",
       "      <td>Cameron</td>\n",
       "      <td>Maybin</td>\n",
       "      <td>maybica01</td>\n",
       "      <td>8</td>\n",
       "      <td>561.0</td>\n",
       "    </tr>\n",
       "    <tr>\n",
       "      <th>110</th>\n",
       "      <td>NL</td>\n",
       "      <td>Angel</td>\n",
       "      <td>Pagan</td>\n",
       "      <td>paganan01</td>\n",
       "      <td>8</td>\n",
       "      <td>659.0</td>\n",
       "    </tr>\n",
       "    <tr>\n",
       "      <th>111</th>\n",
       "      <td>NL</td>\n",
       "      <td>Cameron</td>\n",
       "      <td>Maybin</td>\n",
       "      <td>maybica01</td>\n",
       "      <td>8</td>\n",
       "      <td>561.0</td>\n",
       "    </tr>\n",
       "    <tr>\n",
       "      <th>112</th>\n",
       "      <td>NL</td>\n",
       "      <td>Darwin</td>\n",
       "      <td>Barney</td>\n",
       "      <td>barneda01</td>\n",
       "      <td>7</td>\n",
       "      <td>588.0</td>\n",
       "    </tr>\n",
       "    <tr>\n",
       "      <th>113</th>\n",
       "      <td>NL</td>\n",
       "      <td>Jose</td>\n",
       "      <td>Altuve</td>\n",
       "      <td>altuvjo01</td>\n",
       "      <td>7</td>\n",
       "      <td>630.0</td>\n",
       "    </tr>\n",
       "    <tr>\n",
       "      <th>114</th>\n",
       "      <td>NL</td>\n",
       "      <td>Marco</td>\n",
       "      <td>Scutaro</td>\n",
       "      <td>scutama01</td>\n",
       "      <td>7</td>\n",
       "      <td>683.0</td>\n",
       "    </tr>\n",
       "    <tr>\n",
       "      <th>115</th>\n",
       "      <td>NL</td>\n",
       "      <td>Darwin</td>\n",
       "      <td>Barney</td>\n",
       "      <td>barneda01</td>\n",
       "      <td>7</td>\n",
       "      <td>588.0</td>\n",
       "    </tr>\n",
       "    <tr>\n",
       "      <th>116</th>\n",
       "      <td>NL</td>\n",
       "      <td>Jose</td>\n",
       "      <td>Altuve</td>\n",
       "      <td>altuvjo01</td>\n",
       "      <td>7</td>\n",
       "      <td>630.0</td>\n",
       "    </tr>\n",
       "    <tr>\n",
       "      <th>117</th>\n",
       "      <td>NL</td>\n",
       "      <td>Marco</td>\n",
       "      <td>Scutaro</td>\n",
       "      <td>scutama01</td>\n",
       "      <td>7</td>\n",
       "      <td>683.0</td>\n",
       "    </tr>\n",
       "    <tr>\n",
       "      <th>118</th>\n",
       "      <td>NL</td>\n",
       "      <td>Daniel</td>\n",
       "      <td>Murphy</td>\n",
       "      <td>murphda08</td>\n",
       "      <td>6</td>\n",
       "      <td>612.0</td>\n",
       "    </tr>\n",
       "    <tr>\n",
       "      <th>119</th>\n",
       "      <td>NL</td>\n",
       "      <td>Daniel</td>\n",
       "      <td>Murphy</td>\n",
       "      <td>murphda08</td>\n",
       "      <td>6</td>\n",
       "      <td>612.0</td>\n",
       "    </tr>\n",
       "    <tr>\n",
       "      <th>120</th>\n",
       "      <td>NL</td>\n",
       "      <td>Jordan</td>\n",
       "      <td>Pacheco</td>\n",
       "      <td>pachejo01</td>\n",
       "      <td>5</td>\n",
       "      <td>505.0</td>\n",
       "    </tr>\n",
       "    <tr>\n",
       "      <th>121</th>\n",
       "      <td>NL</td>\n",
       "      <td>Rafael</td>\n",
       "      <td>Furcal</td>\n",
       "      <td>furcara01</td>\n",
       "      <td>5</td>\n",
       "      <td>531.0</td>\n",
       "    </tr>\n",
       "    <tr>\n",
       "      <th>122</th>\n",
       "      <td>NL</td>\n",
       "      <td>Jordan</td>\n",
       "      <td>Pacheco</td>\n",
       "      <td>pachejo01</td>\n",
       "      <td>5</td>\n",
       "      <td>505.0</td>\n",
       "    </tr>\n",
       "    <tr>\n",
       "      <th>123</th>\n",
       "      <td>NL</td>\n",
       "      <td>Rafael</td>\n",
       "      <td>Furcal</td>\n",
       "      <td>furcara01</td>\n",
       "      <td>5</td>\n",
       "      <td>531.0</td>\n",
       "    </tr>\n",
       "    <tr>\n",
       "      <th>124</th>\n",
       "      <td>NL</td>\n",
       "      <td>Jon</td>\n",
       "      <td>Jay</td>\n",
       "      <td>jayjo02</td>\n",
       "      <td>4</td>\n",
       "      <td>502.0</td>\n",
       "    </tr>\n",
       "    <tr>\n",
       "      <th>125</th>\n",
       "      <td>NL</td>\n",
       "      <td>Jon</td>\n",
       "      <td>Jay</td>\n",
       "      <td>jayjo02</td>\n",
       "      <td>4</td>\n",
       "      <td>502.0</td>\n",
       "    </tr>\n",
       "  </tbody>\n",
       "</table>\n",
       "<p>126 rows × 6 columns</p>\n",
       "</div>"
      ],
      "text/plain": [
       "    lgID  nameFirst   nameLast   playerID  HR     PA\n",
       "0     NL       Ryan      Braun  braunry02  41  677.0\n",
       "1     NL       Ryan      Braun  braunry02  41  677.0\n",
       "2     NL  Giancarlo    Stanton  stantmi03  37  501.0\n",
       "3     NL  Giancarlo    Stanton  stantmi03  37  501.0\n",
       "4     NL        Jay      Bruce  bruceja01  34  633.0\n",
       "5     NL        Jay      Bruce  bruceja01  34  633.0\n",
       "6     NL       Adam    LaRoche  larocad01  33  647.0\n",
       "7     NL       Adam    LaRoche  larocad01  33  647.0\n",
       "8     NL    Alfonso    Soriano  soriaal01  32  615.0\n",
       "9     NL     Carlos    Beltran  beltrca01  32  619.0\n",
       "10    NL        Ike      Davis  davisik02  32  584.0\n",
       "11    NL    Alfonso    Soriano  soriaal01  32  615.0\n",
       "12    NL     Carlos    Beltran  beltrca01  32  619.0\n",
       "13    NL        Ike      Davis  davisik02  32  584.0\n",
       "14    NL     Andrew  McCutchen  mccutan01  31  673.0\n",
       "15    NL      Chase    Headley  headlch01  31  699.0\n",
       "16    NL     Andrew  McCutchen  mccutan01  31  673.0\n",
       "17    NL      Chase    Headley  headlch01  31  699.0\n",
       "18    NL      Corey       Hart   hartco01  30  622.0\n",
       "19    NL      Jason      Kubel  kubelja01  30  571.0\n",
       "20    NL      Pedro    Alvarez  alvarpe01  30  586.0\n",
       "21    NL      Corey       Hart   hartco01  30  622.0\n",
       "22    NL      Jason      Kubel  kubelja01  30  571.0\n",
       "23    NL      Pedro    Alvarez  alvarpe01  30  586.0\n",
       "24    NL     Aramis    Ramirez  ramirar01  27  630.0\n",
       "25    NL    Garrett      Jones  jonesga02  27  515.0\n",
       "26    NL      Jason    Heyward  heywaja01  27  650.0\n",
       "27    NL       Matt   Holliday  hollima01  27  688.0\n",
       "28    NL     Aramis    Ramirez  ramirar01  27  630.0\n",
       "29    NL    Garrett      Jones  jonesga02  27  515.0\n",
       "..   ...        ...        ...        ...  ..    ...\n",
       "96    NL     Martin      Prado  pradoma01  10  690.0\n",
       "97    NL       Nori       Aoki   aokino01  10  588.0\n",
       "98    NL     Martin      Prado  pradoma01  10  690.0\n",
       "99    NL       Nori       Aoki   aokino01  10  588.0\n",
       "100   NL     Carlos        Lee    leeca01   9  615.0\n",
       "101   NL      David    DeJesus  dejesda01   9  582.0\n",
       "102   NL    Michael      Bourn  bournmi01   9  703.0\n",
       "103   NL     Yonder     Alonso  alonsyo01   9  619.0\n",
       "104   NL     Carlos        Lee    leeca01   9  615.0\n",
       "105   NL      David    DeJesus  dejesda01   9  582.0\n",
       "106   NL    Michael      Bourn  bournmi01   9  703.0\n",
       "107   NL     Yonder     Alonso  alonsyo01   9  619.0\n",
       "108   NL      Angel      Pagan  paganan01   8  659.0\n",
       "109   NL    Cameron     Maybin  maybica01   8  561.0\n",
       "110   NL      Angel      Pagan  paganan01   8  659.0\n",
       "111   NL    Cameron     Maybin  maybica01   8  561.0\n",
       "112   NL     Darwin     Barney  barneda01   7  588.0\n",
       "113   NL       Jose     Altuve  altuvjo01   7  630.0\n",
       "114   NL      Marco    Scutaro  scutama01   7  683.0\n",
       "115   NL     Darwin     Barney  barneda01   7  588.0\n",
       "116   NL       Jose     Altuve  altuvjo01   7  630.0\n",
       "117   NL      Marco    Scutaro  scutama01   7  683.0\n",
       "118   NL     Daniel     Murphy  murphda08   6  612.0\n",
       "119   NL     Daniel     Murphy  murphda08   6  612.0\n",
       "120   NL     Jordan    Pacheco  pachejo01   5  505.0\n",
       "121   NL     Rafael     Furcal  furcara01   5  531.0\n",
       "122   NL     Jordan    Pacheco  pachejo01   5  505.0\n",
       "123   NL     Rafael     Furcal  furcara01   5  531.0\n",
       "124   NL        Jon        Jay    jayjo02   4  502.0\n",
       "125   NL        Jon        Jay    jayjo02   4  502.0\n",
       "\n",
       "[126 rows x 6 columns]"
      ]
     },
     "execution_count": 82,
     "metadata": {},
     "output_type": "execute_result"
    }
   ],
   "source": [
    "HR_lgavg = df[df['yearID'] == 2012].pivot_table(values=['HR','PA'], index=['lgID','nameFirst','nameLast','playerID'],aggfunc='sum').reset_index()\n",
    "leage_HR = pd.DataFrame()\n",
    "#select the palyers with HR more than there respective leagues in the season, and iterate for all the leagues in 2012, and append the playerID and yearID into a new dataframe\n",
    "for i in HR_lgavg['lgID'].unique():\n",
    "    leage_HR = HR_lgavg[HR_lgavg['lgID']== i][HR_lgavg[HR_lgavg['lgID']== i]['HR'] > HR_lgavg[HR_lgavg['lgID']== i]['HR'].mean()]\n",
    "    leage_HR = leage_HR.append(leage_HR)\n",
    "leage_HR[leage_HR['PA']>=500].sort_values(by=['lgID','HR'],ascending=False).reset_index(drop=True)"
   ]
  },
  {
   "cell_type": "markdown",
   "metadata": {},
   "source": [
    "### 24) Who is the youngest player to hit 50 or more HRs in a single season? (Dataframe)"
   ]
  },
  {
   "cell_type": "code",
   "execution_count": 83,
   "metadata": {
    "collapsed": true
   },
   "outputs": [],
   "source": [
    "yg = pd.DataFrame(df.pivot_table(values=['HR'],index=['yearID','playerID','nameFirst','nameLast','birthYear'],aggfunc= np.sum)).reset_index()"
   ]
  },
  {
   "cell_type": "code",
   "execution_count": 84,
   "metadata": {
    "collapsed": true
   },
   "outputs": [],
   "source": [
    "##Grouped data by season and birth year ,player id and then added their home runs"
   ]
  },
  {
   "cell_type": "code",
   "execution_count": 85,
   "metadata": {
    "collapsed": true
   },
   "outputs": [],
   "source": [
    "##Calculating age by subtracting year and birth year to calculate age at the time of season"
   ]
  },
  {
   "cell_type": "code",
   "execution_count": 86,
   "metadata": {
    "collapsed": true
   },
   "outputs": [],
   "source": [
    "yg['age'] = yg['yearID'] - yg['birthYear']"
   ]
  },
  {
   "cell_type": "code",
   "execution_count": 87,
   "metadata": {
    "collapsed": true
   },
   "outputs": [],
   "source": [
    "yg = yg[(yg['HR'] >=50)]"
   ]
  },
  {
   "cell_type": "code",
   "execution_count": 88,
   "metadata": {},
   "outputs": [
    {
     "data": {
      "text/html": [
       "<div>\n",
       "<style scoped>\n",
       "    .dataframe tbody tr th:only-of-type {\n",
       "        vertical-align: middle;\n",
       "    }\n",
       "\n",
       "    .dataframe tbody tr th {\n",
       "        vertical-align: top;\n",
       "    }\n",
       "\n",
       "    .dataframe thead th {\n",
       "        text-align: right;\n",
       "    }\n",
       "</style>\n",
       "<table border=\"1\" class=\"dataframe\">\n",
       "  <thead>\n",
       "    <tr style=\"text-align: right;\">\n",
       "      <th></th>\n",
       "      <th>yearID</th>\n",
       "      <th>playerID</th>\n",
       "      <th>nameFirst</th>\n",
       "      <th>nameLast</th>\n",
       "      <th>birthYear</th>\n",
       "      <th>HR</th>\n",
       "      <th>age</th>\n",
       "    </tr>\n",
       "  </thead>\n",
       "  <tbody>\n",
       "    <tr>\n",
       "      <th>0</th>\n",
       "      <td>2007</td>\n",
       "      <td>fieldpr01</td>\n",
       "      <td>Prince</td>\n",
       "      <td>Fielder</td>\n",
       "      <td>1984</td>\n",
       "      <td>50</td>\n",
       "      <td>23</td>\n",
       "    </tr>\n",
       "  </tbody>\n",
       "</table>\n",
       "</div>"
      ],
      "text/plain": [
       "   yearID   playerID nameFirst nameLast  birthYear  HR  age\n",
       "0    2007  fieldpr01    Prince  Fielder       1984  50   23"
      ]
     },
     "execution_count": 88,
     "metadata": {},
     "output_type": "execute_result"
    }
   ],
   "source": [
    "yg.nsmallest(1,'age').reset_index(drop=True)"
   ]
  },
  {
   "cell_type": "markdown",
   "metadata": {},
   "source": [
    "### 25) Who are the five youngest players to hit 300 or more HRs for their career? (Dataframe)"
   ]
  },
  {
   "cell_type": "code",
   "execution_count": 89,
   "metadata": {
    "collapsed": true
   },
   "outputs": [],
   "source": [
    "yr = pd.DataFrame(df.pivot_table(values=['HR'],index=['playerID','nameFirst','nameLast','birthYear','yearID'],aggfunc= np.sum)).reset_index()"
   ]
  },
  {
   "cell_type": "code",
   "execution_count": 90,
   "metadata": {
    "collapsed": true
   },
   "outputs": [],
   "source": [
    "##Grouping players season wise adding homeruns"
   ]
  },
  {
   "cell_type": "code",
   "execution_count": 91,
   "metadata": {
    "collapsed": true
   },
   "outputs": [],
   "source": [
    "yr['age'] = yr['yearID'] - yr['birthYear']"
   ]
  },
  {
   "cell_type": "code",
   "execution_count": 92,
   "metadata": {
    "collapsed": true
   },
   "outputs": [],
   "source": [
    "yr= yr.drop(['yearID','birthYear'],axis =1 )"
   ]
  },
  {
   "cell_type": "code",
   "execution_count": 93,
   "metadata": {
    "collapsed": true
   },
   "outputs": [],
   "source": [
    "##Group by age and the using csum to counting the cumulative sum of the home runs\n",
    "youngesthr =yr.groupby(by=['playerID','nameLast','nameFirst','age']).sum().groupby(level=[0]).cumsum()"
   ]
  },
  {
   "cell_type": "code",
   "execution_count": 94,
   "metadata": {
    "collapsed": true
   },
   "outputs": [],
   "source": [
    "youngesthr=youngesthr.reset_index()"
   ]
  },
  {
   "cell_type": "code",
   "execution_count": 95,
   "metadata": {
    "collapsed": true
   },
   "outputs": [],
   "source": [
    "youngesthr = youngesthr[(youngesthr['HR']>= 300)]"
   ]
  },
  {
   "cell_type": "code",
   "execution_count": 96,
   "metadata": {
    "collapsed": true
   },
   "outputs": [],
   "source": [
    "##Keeping the first occurence of the player"
   ]
  },
  {
   "cell_type": "code",
   "execution_count": 97,
   "metadata": {
    "collapsed": true
   },
   "outputs": [],
   "source": [
    "youngesthr=youngesthr.drop_duplicates(subset='playerID', keep=\"first\").reset_index(drop= True)"
   ]
  },
  {
   "cell_type": "code",
   "execution_count": 98,
   "metadata": {},
   "outputs": [
    {
     "data": {
      "text/html": [
       "<div>\n",
       "<style scoped>\n",
       "    .dataframe tbody tr th:only-of-type {\n",
       "        vertical-align: middle;\n",
       "    }\n",
       "\n",
       "    .dataframe tbody tr th {\n",
       "        vertical-align: top;\n",
       "    }\n",
       "\n",
       "    .dataframe thead th {\n",
       "        text-align: right;\n",
       "    }\n",
       "</style>\n",
       "<table border=\"1\" class=\"dataframe\">\n",
       "  <thead>\n",
       "    <tr style=\"text-align: right;\">\n",
       "      <th></th>\n",
       "      <th>playerID</th>\n",
       "      <th>nameLast</th>\n",
       "      <th>nameFirst</th>\n",
       "      <th>age</th>\n",
       "      <th>HR</th>\n",
       "    </tr>\n",
       "  </thead>\n",
       "  <tbody>\n",
       "    <tr>\n",
       "      <th>0</th>\n",
       "      <td>foxxji01</td>\n",
       "      <td>Foxx</td>\n",
       "      <td>Jimmie</td>\n",
       "      <td>28</td>\n",
       "      <td>302</td>\n",
       "    </tr>\n",
       "    <tr>\n",
       "      <th>1</th>\n",
       "      <td>jonesan01</td>\n",
       "      <td>Jones</td>\n",
       "      <td>Andruw</td>\n",
       "      <td>28</td>\n",
       "      <td>301</td>\n",
       "    </tr>\n",
       "    <tr>\n",
       "      <th>2</th>\n",
       "      <td>ottme01</td>\n",
       "      <td>Ott</td>\n",
       "      <td>Mel</td>\n",
       "      <td>28</td>\n",
       "      <td>306</td>\n",
       "    </tr>\n",
       "    <tr>\n",
       "      <th>3</th>\n",
       "      <td>pujolal01</td>\n",
       "      <td>Pujols</td>\n",
       "      <td>Albert</td>\n",
       "      <td>28</td>\n",
       "      <td>319</td>\n",
       "    </tr>\n",
       "    <tr>\n",
       "      <th>4</th>\n",
       "      <td>rodrial01</td>\n",
       "      <td>Rodriguez</td>\n",
       "      <td>Alex</td>\n",
       "      <td>28</td>\n",
       "      <td>345</td>\n",
       "    </tr>\n",
       "  </tbody>\n",
       "</table>\n",
       "</div>"
      ],
      "text/plain": [
       "    playerID   nameLast nameFirst  age   HR\n",
       "0   foxxji01       Foxx    Jimmie   28  302\n",
       "1  jonesan01      Jones    Andruw   28  301\n",
       "2    ottme01        Ott       Mel   28  306\n",
       "3  pujolal01     Pujols    Albert   28  319\n",
       "4  rodrial01  Rodriguez      Alex   28  345"
      ]
     },
     "execution_count": 98,
     "metadata": {},
     "output_type": "execute_result"
    }
   ],
   "source": [
    "youngesthr.nsmallest(5,'age').reset_index(drop=True)"
   ]
  },
  {
   "cell_type": "markdown",
   "metadata": {},
   "source": [
    "### B1) Graph total HRs per season using bar graph"
   ]
  },
  {
   "cell_type": "code",
   "execution_count": 99,
   "metadata": {
    "collapsed": true
   },
   "outputs": [],
   "source": [
    "##Here I have first used pivot table to group data and add the homeruns then for displaying for each season i have iterated\n",
    "## through the x axis season wise \n",
    "import matplotlib.pyplot as plt\n",
    "%matplotlib inline"
   ]
  },
  {
   "cell_type": "code",
   "execution_count": 100,
   "metadata": {
    "collapsed": true
   },
   "outputs": [],
   "source": [
    "thr = pd.DataFrame(df.pivot_table(values=['HR'],index=['yearID'],aggfunc= np.sum)).reset_index()"
   ]
  },
  {
   "cell_type": "code",
   "execution_count": 101,
   "metadata": {},
   "outputs": [
    {
     "data": {
      "text/html": [
       "<div>\n",
       "<style scoped>\n",
       "    .dataframe tbody tr th:only-of-type {\n",
       "        vertical-align: middle;\n",
       "    }\n",
       "\n",
       "    .dataframe tbody tr th {\n",
       "        vertical-align: top;\n",
       "    }\n",
       "\n",
       "    .dataframe thead th {\n",
       "        text-align: right;\n",
       "    }\n",
       "</style>\n",
       "<table border=\"1\" class=\"dataframe\">\n",
       "  <thead>\n",
       "    <tr style=\"text-align: right;\">\n",
       "      <th></th>\n",
       "      <th>yearID</th>\n",
       "      <th>HR</th>\n",
       "    </tr>\n",
       "  </thead>\n",
       "  <tbody>\n",
       "    <tr>\n",
       "      <th>0</th>\n",
       "      <td>1871</td>\n",
       "      <td>47</td>\n",
       "    </tr>\n",
       "    <tr>\n",
       "      <th>1</th>\n",
       "      <td>1872</td>\n",
       "      <td>35</td>\n",
       "    </tr>\n",
       "    <tr>\n",
       "      <th>2</th>\n",
       "      <td>1873</td>\n",
       "      <td>46</td>\n",
       "    </tr>\n",
       "    <tr>\n",
       "      <th>3</th>\n",
       "      <td>1874</td>\n",
       "      <td>40</td>\n",
       "    </tr>\n",
       "    <tr>\n",
       "      <th>4</th>\n",
       "      <td>1875</td>\n",
       "      <td>40</td>\n",
       "    </tr>\n",
       "  </tbody>\n",
       "</table>\n",
       "</div>"
      ],
      "text/plain": [
       "   yearID  HR\n",
       "0    1871  47\n",
       "1    1872  35\n",
       "2    1873  46\n",
       "3    1874  40\n",
       "4    1875  40"
      ]
     },
     "execution_count": 101,
     "metadata": {},
     "output_type": "execute_result"
    }
   ],
   "source": [
    "thr.head()"
   ]
  },
  {
   "cell_type": "code",
   "execution_count": 102,
   "metadata": {
    "collapsed": true
   },
   "outputs": [],
   "source": [
    "##will act as x axis\n",
    "reso_names = thr['yearID'].tolist()"
   ]
  },
  {
   "cell_type": "code",
   "execution_count": 103,
   "metadata": {
    "collapsed": true
   },
   "outputs": [],
   "source": [
    "##will act as y axis\n",
    "reso_values = thr['HR'].tolist()"
   ]
  },
  {
   "cell_type": "code",
   "execution_count": 104,
   "metadata": {
    "collapsed": true
   },
   "outputs": [],
   "source": [
    "import pandas as pd\n",
    "from matplotlib import rcParams\n",
    "import matplotlib.pyplot as plt\n",
    "from operator import itemgetter"
   ]
  },
  {
   "cell_type": "code",
   "execution_count": 105,
   "metadata": {},
   "outputs": [
    {
     "data": {
      "text/plain": [
       "<matplotlib.figure.Figure at 0x1dd85b8d7f0>"
      ]
     },
     "execution_count": 105,
     "metadata": {},
     "output_type": "execute_result"
    },
    {
     "data": {
      "text/plain": [
       "<matplotlib.figure.Figure at 0x1dd85b8d7f0>"
      ]
     },
     "metadata": {},
     "output_type": "display_data"
    }
   ],
   "source": [
    "rcParams.update({'figure.autolayout': True})\n",
    "plt.figure(figsize=(14,9), dpi=600)"
   ]
  },
  {
   "cell_type": "code",
   "execution_count": 106,
   "metadata": {},
   "outputs": [
    {
     "name": "stderr",
     "output_type": "stream",
     "text": [
      "C:\\Users\\saura\\Anaconda3\\lib\\site-packages\\matplotlib\\font_manager.py:1320: UserWarning: findfont: Font family ['Arial Black'] not found. Falling back to DejaVu Sans\n",
      "  (prop.get_family(), self.defaultFamily[fontext]))\n",
      "C:\\Users\\saura\\Anaconda3\\lib\\site-packages\\matplotlib\\figure.py:2022: UserWarning: This figure includes Axes that are not compatible with tight_layout, so results might be incorrect.\n",
      "  warnings.warn(\"This figure includes Axes that are not compatible \"\n"
     ]
    },
    {
     "data": {
      "image/png": "[encoded data removed]",
      "text/plain": [
       "<matplotlib.figure.Figure at 0x1dd85bbad68>"
      ]
     },
     "metadata": {},
     "output_type": "display_data"
    }
   ],
   "source": [
    "##This N is the number of times the iteration will run so as to divide the total seasons by that number\n",
    "N=15\n",
    "sublists_names = [reso_names[x:x+N] for x in range(0, len(reso_names), N)]\n",
    "sublists_values = [reso_values[x:x+N] for x in range(0,len(reso_values), N)]\n",
    "\n",
    "size = int(len(reso_values))\n",
    "fig, axs = plt.subplots(nrows=size//N+1, sharey=True, figsize=(20,125), dpi=50)\n",
    "\n",
    "fig.suptitle('Graph', \n",
    "          **{'family': 'Arial Black', 'size': 22, 'weight': 'bold'})\n",
    "\n",
    "\n",
    "def autolabel(rects):\n",
    "    \"\"\"\n",
    "    Attach a text label above each bar displaying its height\n",
    "    \"\"\"\n",
    "    for rect in rects:\n",
    "        height = rect.get_height()\n",
    "        ax.text(rect.get_x() + rect.get_width()/2., 1.05*height,\n",
    "                '%d' % int(height),\n",
    "                ha='left', va='bottom')\n",
    "\n",
    "for ax, names, values in zip(axs, sublists_names, sublists_values):\n",
    "    x= ax.bar(range(len(values)), values, align='center')\n",
    "    autolabel(x)\n",
    "    ax.set_xlabel('Season')\n",
    "    ax.set_ylabel('HoomeRuns')\n",
    "    ax.set_xticks(range(len(names)))\n",
    "    ax.set_xticklabels(names, rotation='vertical')\n",
    "    ax.set_xlim(0, len(names))\n",
    "    ax.set_xlim(0, N)\n",
    "\n",
    "\n",
    "plt.show()\n"
   ]
  },
  {
   "cell_type": "markdown",
   "metadata": {},
   "source": [
    "### B2) Using a line graph please graph the average HRs per AB (think about this) per season"
   ]
  },
  {
   "cell_type": "code",
   "execution_count": 107,
   "metadata": {
    "collapsed": true
   },
   "outputs": [],
   "source": [
    "yrg = pd.DataFrame(df.pivot_table(values=['HR','AB'],index=['yearID'],aggfunc= np.sum)).reset_index()"
   ]
  },
  {
   "cell_type": "code",
   "execution_count": 108,
   "metadata": {},
   "outputs": [
    {
     "data": {
      "text/html": [
       "<div>\n",
       "<style scoped>\n",
       "    .dataframe tbody tr th:only-of-type {\n",
       "        vertical-align: middle;\n",
       "    }\n",
       "\n",
       "    .dataframe tbody tr th {\n",
       "        vertical-align: top;\n",
       "    }\n",
       "\n",
       "    .dataframe thead th {\n",
       "        text-align: right;\n",
       "    }\n",
       "</style>\n",
       "<table border=\"1\" class=\"dataframe\">\n",
       "  <thead>\n",
       "    <tr style=\"text-align: right;\">\n",
       "      <th></th>\n",
       "      <th>yearID</th>\n",
       "      <th>AB</th>\n",
       "      <th>HR</th>\n",
       "    </tr>\n",
       "  </thead>\n",
       "  <tbody>\n",
       "    <tr>\n",
       "      <th>0</th>\n",
       "      <td>1871</td>\n",
       "      <td>10822</td>\n",
       "      <td>47</td>\n",
       "    </tr>\n",
       "    <tr>\n",
       "      <th>1</th>\n",
       "      <td>1872</td>\n",
       "      <td>15679</td>\n",
       "      <td>35</td>\n",
       "    </tr>\n",
       "    <tr>\n",
       "      <th>2</th>\n",
       "      <td>1873</td>\n",
       "      <td>16974</td>\n",
       "      <td>46</td>\n",
       "    </tr>\n",
       "    <tr>\n",
       "      <th>3</th>\n",
       "      <td>1874</td>\n",
       "      <td>19104</td>\n",
       "      <td>40</td>\n",
       "    </tr>\n",
       "    <tr>\n",
       "      <th>4</th>\n",
       "      <td>1875</td>\n",
       "      <td>26833</td>\n",
       "      <td>40</td>\n",
       "    </tr>\n",
       "  </tbody>\n",
       "</table>\n",
       "</div>"
      ],
      "text/plain": [
       "   yearID     AB  HR\n",
       "0    1871  10822  47\n",
       "1    1872  15679  35\n",
       "2    1873  16974  46\n",
       "3    1874  19104  40\n",
       "4    1875  26833  40"
      ]
     },
     "execution_count": 108,
     "metadata": {},
     "output_type": "execute_result"
    }
   ],
   "source": [
    "yrg.head()"
   ]
  },
  {
   "cell_type": "code",
   "execution_count": 109,
   "metadata": {
    "collapsed": true
   },
   "outputs": [],
   "source": [
    "yrg['avghab'] = yrg['HR']/yrg['AB']"
   ]
  },
  {
   "cell_type": "code",
   "execution_count": 112,
   "metadata": {},
   "outputs": [
    {
     "data": {
      "text/plain": [
       "Text(0.5,1,'Average HR/AB per season')"
      ]
     },
     "execution_count": 112,
     "metadata": {},
     "output_type": "execute_result"
    },
    {
     "name": "stderr",
     "output_type": "stream",
     "text": [
      "C:\\Users\\saura\\Anaconda3\\lib\\site-packages\\matplotlib\\figure.py:2022: UserWarning: This figure includes Axes that are not compatible with tight_layout, so results might be incorrect.\n",
      "  warnings.warn(\"This figure includes Axes that are not compatible \"\n"
     ]
    },
    {
     "data": {
      "image/png": "[encoded data removed]",
      "text/plain": [
       "<matplotlib.figure.Figure at 0x1dd86bc6c18>"
      ]
     },
     "metadata": {},
     "output_type": "display_data"
    }
   ],
   "source": [
    "x= yrg['yearID']\n",
    "y= yrg['avghab']\n",
    "fig = plt.figure()\n",
    "ax = fig.add_axes([0,0,1,1])\n",
    "ax.plot(x,y)\n",
    "ax.set_xlabel('Average Home run per ab')\n",
    "ax.set_ylabel('Season')\n",
    "ax.set_title('Average HR/AB per season')"
   ]
  },
  {
   "cell_type": "code",
   "execution_count": null,
   "metadata": {
    "collapsed": true
   },
   "outputs": [],
   "source": []
  }
 ],
 "metadata": {
  "kernelspec": {
   "display_name": "Python 3",
   "language": "python",
   "name": "python3"
  },
  "language_info": {
   "codemirror_mode": {
    "name": "ipython",
    "version": 3
   },
   "file_extension": ".py",
   "mimetype": "text/x-python",
   "name": "python",
   "nbconvert_exporter": "python",
   "pygments_lexer": "ipython3",
   "version": "3.6.3"
  }
 },
 "nbformat": 4,
 "nbformat_minor": 2
}
